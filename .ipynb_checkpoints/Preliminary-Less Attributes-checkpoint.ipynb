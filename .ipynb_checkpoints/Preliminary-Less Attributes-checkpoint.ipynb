{
 "cells": [
  {
   "cell_type": "markdown",
   "metadata": {},
   "source": [
    "# Metrics, Read Explanation and function"
   ]
  },
  {
   "cell_type": "code",
   "execution_count": 1,
   "metadata": {
    "_cell_guid": "b1076dfc-b9ad-4769-8c92-a6c4dae69d19",
    "_uuid": "8f2839f25d086af736a60e9eeb907d3b93b6e0e5"
   },
   "outputs": [],
   "source": [
    "import numpy as np # linear algebra\n",
    "import pandas as pd # data processing, CSV file I/O (e.g. pd.read_csv)\n",
    "import matplotlib.pyplot as plt\n",
    "from keras.callbacks import EarlyStopping\n",
    "from sklearn.metrics import classification_report\n",
    "from sklearn.metrics import precision_recall_fscore_support\n",
    "from sklearn.metrics import confusion_matrix\n",
    "import warnings\n",
    "import timeit\n",
    "warnings.filterwarnings(\"ignore\")"
   ]
  },
  {
   "cell_type": "code",
   "execution_count": 2,
   "metadata": {
    "_cell_guid": "79c7e3d0-c299-4dcb-8224-4455121ee9b0",
    "_uuid": "d629ff2d2480ee46fbb7e2d37f6b5fab8052498a"
   },
   "outputs": [],
   "source": [
    "df = pd.read_csv('input/Skyserver_SQL2_27_2018 6_51_39 PM.csv')\n",
    "# df = pd.read_csv('input/SDSS_final.csv')"
   ]
  },
  {
   "cell_type": "code",
   "execution_count": 3,
   "metadata": {},
   "outputs": [
    {
     "data": {
      "text/html": [
       "<div>\n",
       "<style scoped>\n",
       "    .dataframe tbody tr th:only-of-type {\n",
       "        vertical-align: middle;\n",
       "    }\n",
       "\n",
       "    .dataframe tbody tr th {\n",
       "        vertical-align: top;\n",
       "    }\n",
       "\n",
       "    .dataframe thead th {\n",
       "        text-align: right;\n",
       "    }\n",
       "</style>\n",
       "<table border=\"1\" class=\"dataframe\">\n",
       "  <thead>\n",
       "    <tr style=\"text-align: right;\">\n",
       "      <th></th>\n",
       "      <th>objid</th>\n",
       "      <th>ra</th>\n",
       "      <th>dec</th>\n",
       "      <th>run</th>\n",
       "      <th>rerun</th>\n",
       "      <th>camcol</th>\n",
       "      <th>field</th>\n",
       "      <th>u</th>\n",
       "      <th>g</th>\n",
       "      <th>r</th>\n",
       "      <th>i</th>\n",
       "      <th>z</th>\n",
       "      <th>specobjid</th>\n",
       "      <th>plate</th>\n",
       "      <th>mjd</th>\n",
       "      <th>fiberid</th>\n",
       "      <th>redshift</th>\n",
       "      <th>class</th>\n",
       "    </tr>\n",
       "  </thead>\n",
       "  <tbody>\n",
       "    <tr>\n",
       "      <th>0</th>\n",
       "      <td>1.240000e+18</td>\n",
       "      <td>183.531326</td>\n",
       "      <td>0.089693</td>\n",
       "      <td>752</td>\n",
       "      <td>301</td>\n",
       "      <td>4</td>\n",
       "      <td>267</td>\n",
       "      <td>19.47406</td>\n",
       "      <td>17.04240</td>\n",
       "      <td>15.94699</td>\n",
       "      <td>15.50342</td>\n",
       "      <td>15.22531</td>\n",
       "      <td>3.720000e+18</td>\n",
       "      <td>3306</td>\n",
       "      <td>54922</td>\n",
       "      <td>491</td>\n",
       "      <td>-0.000009</td>\n",
       "      <td>STAR</td>\n",
       "    </tr>\n",
       "    <tr>\n",
       "      <th>1</th>\n",
       "      <td>1.240000e+18</td>\n",
       "      <td>183.598370</td>\n",
       "      <td>0.135285</td>\n",
       "      <td>752</td>\n",
       "      <td>301</td>\n",
       "      <td>4</td>\n",
       "      <td>267</td>\n",
       "      <td>18.66280</td>\n",
       "      <td>17.21449</td>\n",
       "      <td>16.67637</td>\n",
       "      <td>16.48922</td>\n",
       "      <td>16.39150</td>\n",
       "      <td>3.640000e+17</td>\n",
       "      <td>323</td>\n",
       "      <td>51615</td>\n",
       "      <td>541</td>\n",
       "      <td>-0.000055</td>\n",
       "      <td>STAR</td>\n",
       "    </tr>\n",
       "    <tr>\n",
       "      <th>2</th>\n",
       "      <td>1.240000e+18</td>\n",
       "      <td>183.680207</td>\n",
       "      <td>0.126185</td>\n",
       "      <td>752</td>\n",
       "      <td>301</td>\n",
       "      <td>4</td>\n",
       "      <td>268</td>\n",
       "      <td>19.38298</td>\n",
       "      <td>18.19169</td>\n",
       "      <td>17.47428</td>\n",
       "      <td>17.08732</td>\n",
       "      <td>16.80125</td>\n",
       "      <td>3.230000e+17</td>\n",
       "      <td>287</td>\n",
       "      <td>52023</td>\n",
       "      <td>513</td>\n",
       "      <td>0.123111</td>\n",
       "      <td>GALAXY</td>\n",
       "    </tr>\n",
       "    <tr>\n",
       "      <th>3</th>\n",
       "      <td>1.240000e+18</td>\n",
       "      <td>183.870529</td>\n",
       "      <td>0.049911</td>\n",
       "      <td>752</td>\n",
       "      <td>301</td>\n",
       "      <td>4</td>\n",
       "      <td>269</td>\n",
       "      <td>17.76536</td>\n",
       "      <td>16.60272</td>\n",
       "      <td>16.16116</td>\n",
       "      <td>15.98233</td>\n",
       "      <td>15.90438</td>\n",
       "      <td>3.720000e+18</td>\n",
       "      <td>3306</td>\n",
       "      <td>54922</td>\n",
       "      <td>510</td>\n",
       "      <td>-0.000111</td>\n",
       "      <td>STAR</td>\n",
       "    </tr>\n",
       "    <tr>\n",
       "      <th>4</th>\n",
       "      <td>1.240000e+18</td>\n",
       "      <td>183.883288</td>\n",
       "      <td>0.102557</td>\n",
       "      <td>752</td>\n",
       "      <td>301</td>\n",
       "      <td>4</td>\n",
       "      <td>269</td>\n",
       "      <td>17.55025</td>\n",
       "      <td>16.26342</td>\n",
       "      <td>16.43869</td>\n",
       "      <td>16.55492</td>\n",
       "      <td>16.61326</td>\n",
       "      <td>3.720000e+18</td>\n",
       "      <td>3306</td>\n",
       "      <td>54922</td>\n",
       "      <td>512</td>\n",
       "      <td>0.000590</td>\n",
       "      <td>STAR</td>\n",
       "    </tr>\n",
       "  </tbody>\n",
       "</table>\n",
       "</div>"
      ],
      "text/plain": [
       "          objid          ra       dec  run  rerun  camcol  field         u  \\\n",
       "0  1.240000e+18  183.531326  0.089693  752    301       4    267  19.47406   \n",
       "1  1.240000e+18  183.598370  0.135285  752    301       4    267  18.66280   \n",
       "2  1.240000e+18  183.680207  0.126185  752    301       4    268  19.38298   \n",
       "3  1.240000e+18  183.870529  0.049911  752    301       4    269  17.76536   \n",
       "4  1.240000e+18  183.883288  0.102557  752    301       4    269  17.55025   \n",
       "\n",
       "          g         r         i         z     specobjid  plate    mjd  \\\n",
       "0  17.04240  15.94699  15.50342  15.22531  3.720000e+18   3306  54922   \n",
       "1  17.21449  16.67637  16.48922  16.39150  3.640000e+17    323  51615   \n",
       "2  18.19169  17.47428  17.08732  16.80125  3.230000e+17    287  52023   \n",
       "3  16.60272  16.16116  15.98233  15.90438  3.720000e+18   3306  54922   \n",
       "4  16.26342  16.43869  16.55492  16.61326  3.720000e+18   3306  54922   \n",
       "\n",
       "   fiberid  redshift   class  \n",
       "0      491 -0.000009    STAR  \n",
       "1      541 -0.000055    STAR  \n",
       "2      513  0.123111  GALAXY  \n",
       "3      510 -0.000111    STAR  \n",
       "4      512  0.000590    STAR  "
      ]
     },
     "execution_count": 3,
     "metadata": {},
     "output_type": "execute_result"
    }
   ],
   "source": [
    "df.head()"
   ]
  },
  {
   "cell_type": "code",
   "execution_count": 4,
   "metadata": {},
   "outputs": [
    {
     "data": {
      "text/plain": [
       "Index(['objid', 'ra', 'dec', 'run', 'rerun', 'camcol', 'field', 'u', 'g', 'r',\n",
       "       'i', 'z', 'specobjid', 'plate', 'mjd', 'fiberid', 'redshift', 'class'],\n",
       "      dtype='object')"
      ]
     },
     "execution_count": 4,
     "metadata": {},
     "output_type": "execute_result"
    }
   ],
   "source": [
    "df.columns"
   ]
  },
  {
   "cell_type": "code",
   "execution_count": 5,
   "metadata": {},
   "outputs": [],
   "source": [
    "from PIL import Image\n",
    "import requests\n",
    "\n",
    "def print_image(index):\n",
    "    radeg, decdeg = df['ra'][index],df['dec'][index]\n",
    "    scale = 0.015\n",
    "    height, width = 512, 512\n",
    "\n",
    "    str1 = 'http://skyserver.sdss.org/dr14/SkyServerWS/ImgCutout/getjpeg?TaskName=Skyserver.Chart.Image'\n",
    "    str2 = '&ra={:f}&dec={:f}&scale=0.015&width=1024&height=1024&opt=&query='.format(radeg,decdeg)\n",
    "    url = str1 + str2\n",
    "    print(url)\n",
    "\n",
    "    try:\n",
    "        im = Image.open(requests.get(url, stream=True).raw)\n",
    "    except:\n",
    "        pass\n",
    "        print(\"Error\")\n",
    "    \n",
    "    return im\n"
   ]
  },
  {
   "cell_type": "code",
   "execution_count": 6,
   "metadata": {},
   "outputs": [
    {
     "name": "stdout",
     "output_type": "stream",
     "text": [
      "http://skyserver.sdss.org/dr14/SkyServerWS/ImgCutout/getjpeg?TaskName=Skyserver.Chart.Image&ra=184.350647&dec=0.207230&scale=0.015&width=1024&height=1024&opt=&query=\n",
      "http://skyserver.sdss.org/dr14/SkyServerWS/ImgCutout/getjpeg?TaskName=Skyserver.Chart.Image&ra=183.531326&dec=0.089693&scale=0.015&width=1024&height=1024&opt=&query=\n",
      "http://skyserver.sdss.org/dr14/SkyServerWS/ImgCutout/getjpeg?TaskName=Skyserver.Chart.Image&ra=184.380919&dec=0.174323&scale=0.015&width=1024&height=1024&opt=&query=\n"
     ]
    },
    {
     "data": {
      "text/plain": [
       "Text(0.5, 1.0, 'GALAXY')"
      ]
     },
     "execution_count": 6,
     "metadata": {},
     "output_type": "execute_result"
    },
    {
     "data": {
      "image/png": "[encoded data removed]",
      "text/plain": [
       "<Figure size 1080x1080 with 3 Axes>"
      ]
     },
     "metadata": {
      "needs_background": "light"
     },
     "output_type": "display_data"
    }
   ],
   "source": [
    "index = [15,0,19]\n",
    "im1 = print_image(index[0])\n",
    "im2 = print_image(index[1])\n",
    "im3 = print_image(index[2])\n",
    "\n",
    "fig = plt.figure(figsize=(15, 15))\n",
    "  \n",
    "rows = 1\n",
    "columns = 3\n",
    "\n",
    "fig.add_subplot(rows, columns, 1)\n",
    "plt.imshow(im1)\n",
    "plt.axis('off')\n",
    "plt.title(df['class'][index[0]])\n",
    "\n",
    "fig.add_subplot(rows, columns, 2)\n",
    "plt.imshow(im2)\n",
    "plt.axis('off')\n",
    "plt.title(df['class'][index[1]])\n",
    "  \n",
    "fig.add_subplot(rows, columns, 3)\n",
    "plt.imshow(im3)\n",
    "plt.axis('off')\n",
    "plt.title(df['class'][index[2]])"
   ]
  },
  {
   "cell_type": "code",
   "execution_count": 7,
   "metadata": {},
   "outputs": [],
   "source": [
    "import matplotlib.pyplot as plt\n",
    "from mpl_toolkits.mplot3d import Axes3D\n",
    "import seaborn as sns"
   ]
  },
  {
   "cell_type": "code",
   "execution_count": 8,
   "metadata": {},
   "outputs": [
    {
     "data": {
      "text/plain": [
       "GALAXY    4998\n",
       "STAR      4152\n",
       "QSO        850\n",
       "Name: class, dtype: int64"
      ]
     },
     "execution_count": 8,
     "metadata": {},
     "output_type": "execute_result"
    }
   ],
   "source": [
    "df['class'].value_counts()"
   ]
  },
  {
   "cell_type": "code",
   "execution_count": 9,
   "metadata": {},
   "outputs": [
    {
     "data": {
      "image/png": "[encoded data removed]",
      "text/plain": [
       "<Figure size 432x288 with 1 Axes>"
      ]
     },
     "metadata": {
      "needs_background": "light"
     },
     "output_type": "display_data"
    }
   ],
   "source": [
    "df['class'].head(10)\n",
    "ax = sns.countplot(x='class',data=df)"
   ]
  },
  {
   "cell_type": "code",
   "execution_count": 11,
   "metadata": {},
   "outputs": [
    {
     "data": {
      "text/html": [
       "<div>\n",
       "<style scoped>\n",
       "    .dataframe tbody tr th:only-of-type {\n",
       "        vertical-align: middle;\n",
       "    }\n",
       "\n",
       "    .dataframe tbody tr th {\n",
       "        vertical-align: top;\n",
       "    }\n",
       "\n",
       "    .dataframe thead th {\n",
       "        text-align: right;\n",
       "    }\n",
       "</style>\n",
       "<table border=\"1\" class=\"dataframe\">\n",
       "  <thead>\n",
       "    <tr style=\"text-align: right;\">\n",
       "      <th></th>\n",
       "      <th>class</th>\n",
       "      <th>redshift</th>\n",
       "    </tr>\n",
       "  </thead>\n",
       "  <tbody>\n",
       "    <tr>\n",
       "      <th>2</th>\n",
       "      <td>2</td>\n",
       "      <td>1.218366</td>\n",
       "    </tr>\n",
       "    <tr>\n",
       "      <th>1</th>\n",
       "      <td>1</td>\n",
       "      <td>0.080325</td>\n",
       "    </tr>\n",
       "    <tr>\n",
       "      <th>0</th>\n",
       "      <td>0</td>\n",
       "      <td>0.000043</td>\n",
       "    </tr>\n",
       "  </tbody>\n",
       "</table>\n",
       "</div>"
      ],
      "text/plain": [
       "   class  redshift\n",
       "2      2  1.218366\n",
       "1      1  0.080325\n",
       "0      0  0.000043"
      ]
     },
     "execution_count": 11,
     "metadata": {},
     "output_type": "execute_result"
    }
   ],
   "source": [
    "#data['redshift'].describe()\n",
    "data[['redshift','class']].groupby(['class'],as_index=False).mean().sort_values(by='class',ascending=False)\n"
   ]
  },
  {
   "cell_type": "code",
   "execution_count": 13,
   "metadata": {},
   "outputs": [
    {
     "data": {
      "text/html": [
       "<div>\n",
       "<style scoped>\n",
       "    .dataframe tbody tr th:only-of-type {\n",
       "        vertical-align: middle;\n",
       "    }\n",
       "\n",
       "    .dataframe tbody tr th {\n",
       "        vertical-align: top;\n",
       "    }\n",
       "\n",
       "    .dataframe thead th {\n",
       "        text-align: right;\n",
       "    }\n",
       "</style>\n",
       "<table border=\"1\" class=\"dataframe\">\n",
       "  <thead>\n",
       "    <tr style=\"text-align: right;\">\n",
       "      <th></th>\n",
       "      <th>class</th>\n",
       "      <th>redshift</th>\n",
       "    </tr>\n",
       "  </thead>\n",
       "  <tbody>\n",
       "    <tr>\n",
       "      <th>2</th>\n",
       "      <td>STAR</td>\n",
       "      <td>0.000043</td>\n",
       "    </tr>\n",
       "    <tr>\n",
       "      <th>1</th>\n",
       "      <td>QSO</td>\n",
       "      <td>1.218366</td>\n",
       "    </tr>\n",
       "    <tr>\n",
       "      <th>0</th>\n",
       "      <td>GALAXY</td>\n",
       "      <td>0.080325</td>\n",
       "    </tr>\n",
       "  </tbody>\n",
       "</table>\n",
       "</div>"
      ],
      "text/plain": [
       "    class  redshift\n",
       "2    STAR  0.000043\n",
       "1     QSO  1.218366\n",
       "0  GALAXY  0.080325"
      ]
     },
     "execution_count": 13,
     "metadata": {},
     "output_type": "execute_result"
    }
   ],
   "source": [
    "df[['redshift','class']].groupby(['class'],as_index=False).mean().sort_values(by='class',ascending=False)\n"
   ]
  },
  {
   "cell_type": "markdown",
   "metadata": {},
   "source": [
    "## Distance Sparse\n",
    "\n",
    "Redshift value shows the lookup on how early was the galaxy formed in universe. Edwin Hubble formulate the redshift into how shifted the wavelength of galaxy, thus indicating the radial velocity\n",
    "\n",
    "\n",
    "\\begin{align}\n",
    "z = \\frac{v}{c} = \\frac{\\lambda_{v}-\\lambda_{0}}{\\lambda_{0}}\n",
    "\\end{align}\n",
    "\n",
    "Hubble's law could be stated in\n",
    "\\begin{align}\n",
    "v = \\frac{H_{0}}{d}\n",
    "\\end{align}\n",
    "\n"
   ]
  },
  {
   "cell_type": "code",
   "execution_count": 14,
   "metadata": {},
   "outputs": [
    {
     "data": {
      "text/html": [
       "<div>\n",
       "<style scoped>\n",
       "    .dataframe tbody tr th:only-of-type {\n",
       "        vertical-align: middle;\n",
       "    }\n",
       "\n",
       "    .dataframe tbody tr th {\n",
       "        vertical-align: top;\n",
       "    }\n",
       "\n",
       "    .dataframe thead th {\n",
       "        text-align: right;\n",
       "    }\n",
       "</style>\n",
       "<table border=\"1\" class=\"dataframe\">\n",
       "  <thead>\n",
       "    <tr style=\"text-align: right;\">\n",
       "      <th></th>\n",
       "      <th>objid</th>\n",
       "      <th>ra</th>\n",
       "      <th>dec</th>\n",
       "      <th>run</th>\n",
       "      <th>rerun</th>\n",
       "      <th>camcol</th>\n",
       "      <th>field</th>\n",
       "      <th>u</th>\n",
       "      <th>g</th>\n",
       "      <th>r</th>\n",
       "      <th>...</th>\n",
       "      <th>z</th>\n",
       "      <th>specobjid</th>\n",
       "      <th>plate</th>\n",
       "      <th>mjd</th>\n",
       "      <th>fiberid</th>\n",
       "      <th>redshift</th>\n",
       "      <th>class</th>\n",
       "      <th>l</th>\n",
       "      <th>b</th>\n",
       "      <th>distance</th>\n",
       "    </tr>\n",
       "  </thead>\n",
       "  <tbody>\n",
       "    <tr>\n",
       "      <th>0</th>\n",
       "      <td>1.240000e+18</td>\n",
       "      <td>183.531326</td>\n",
       "      <td>0.089693</td>\n",
       "      <td>752</td>\n",
       "      <td>301</td>\n",
       "      <td>4</td>\n",
       "      <td>267</td>\n",
       "      <td>19.47406</td>\n",
       "      <td>17.04240</td>\n",
       "      <td>15.94699</td>\n",
       "      <td>...</td>\n",
       "      <td>15.22531</td>\n",
       "      <td>3.720000e+18</td>\n",
       "      <td>3306</td>\n",
       "      <td>54922</td>\n",
       "      <td>491</td>\n",
       "      <td>-0.000009</td>\n",
       "      <td>STAR</td>\n",
       "      <td>283.064461</td>\n",
       "      <td>61.513772</td>\n",
       "      <td>-0.038750</td>\n",
       "    </tr>\n",
       "    <tr>\n",
       "      <th>1</th>\n",
       "      <td>1.240000e+18</td>\n",
       "      <td>183.598370</td>\n",
       "      <td>0.135285</td>\n",
       "      <td>752</td>\n",
       "      <td>301</td>\n",
       "      <td>4</td>\n",
       "      <td>267</td>\n",
       "      <td>18.66280</td>\n",
       "      <td>17.21449</td>\n",
       "      <td>16.67637</td>\n",
       "      <td>...</td>\n",
       "      <td>16.39150</td>\n",
       "      <td>3.640000e+17</td>\n",
       "      <td>323</td>\n",
       "      <td>51615</td>\n",
       "      <td>541</td>\n",
       "      <td>-0.000055</td>\n",
       "      <td>STAR</td>\n",
       "      <td>283.169750</td>\n",
       "      <td>61.577466</td>\n",
       "      <td>-0.237432</td>\n",
       "    </tr>\n",
       "    <tr>\n",
       "      <th>2</th>\n",
       "      <td>1.240000e+18</td>\n",
       "      <td>183.680207</td>\n",
       "      <td>0.126185</td>\n",
       "      <td>752</td>\n",
       "      <td>301</td>\n",
       "      <td>4</td>\n",
       "      <td>268</td>\n",
       "      <td>19.38298</td>\n",
       "      <td>18.19169</td>\n",
       "      <td>17.47428</td>\n",
       "      <td>...</td>\n",
       "      <td>16.80125</td>\n",
       "      <td>3.230000e+17</td>\n",
       "      <td>287</td>\n",
       "      <td>52023</td>\n",
       "      <td>513</td>\n",
       "      <td>0.123111</td>\n",
       "      <td>GALAXY</td>\n",
       "      <td>283.339557</td>\n",
       "      <td>61.593309</td>\n",
       "      <td>517.978264</td>\n",
       "    </tr>\n",
       "    <tr>\n",
       "      <th>3</th>\n",
       "      <td>1.240000e+18</td>\n",
       "      <td>183.870529</td>\n",
       "      <td>0.049911</td>\n",
       "      <td>752</td>\n",
       "      <td>301</td>\n",
       "      <td>4</td>\n",
       "      <td>269</td>\n",
       "      <td>17.76536</td>\n",
       "      <td>16.60272</td>\n",
       "      <td>16.16116</td>\n",
       "      <td>...</td>\n",
       "      <td>15.90438</td>\n",
       "      <td>3.720000e+18</td>\n",
       "      <td>3306</td>\n",
       "      <td>54922</td>\n",
       "      <td>510</td>\n",
       "      <td>-0.000111</td>\n",
       "      <td>STAR</td>\n",
       "      <td>283.769013</td>\n",
       "      <td>61.576636</td>\n",
       "      <td>-0.478399</td>\n",
       "    </tr>\n",
       "    <tr>\n",
       "      <th>4</th>\n",
       "      <td>1.240000e+18</td>\n",
       "      <td>183.883288</td>\n",
       "      <td>0.102557</td>\n",
       "      <td>752</td>\n",
       "      <td>301</td>\n",
       "      <td>4</td>\n",
       "      <td>269</td>\n",
       "      <td>17.55025</td>\n",
       "      <td>16.26342</td>\n",
       "      <td>16.43869</td>\n",
       "      <td>...</td>\n",
       "      <td>16.61326</td>\n",
       "      <td>3.720000e+18</td>\n",
       "      <td>3306</td>\n",
       "      <td>54922</td>\n",
       "      <td>512</td>\n",
       "      <td>0.000590</td>\n",
       "      <td>STAR</td>\n",
       "      <td>283.762324</td>\n",
       "      <td>61.630713</td>\n",
       "      <td>2.552829</td>\n",
       "    </tr>\n",
       "  </tbody>\n",
       "</table>\n",
       "<p>5 rows × 21 columns</p>\n",
       "</div>"
      ],
      "text/plain": [
       "          objid          ra       dec  run  rerun  camcol  field         u  \\\n",
       "0  1.240000e+18  183.531326  0.089693  752    301       4    267  19.47406   \n",
       "1  1.240000e+18  183.598370  0.135285  752    301       4    267  18.66280   \n",
       "2  1.240000e+18  183.680207  0.126185  752    301       4    268  19.38298   \n",
       "3  1.240000e+18  183.870529  0.049911  752    301       4    269  17.76536   \n",
       "4  1.240000e+18  183.883288  0.102557  752    301       4    269  17.55025   \n",
       "\n",
       "          g         r  ...         z     specobjid  plate    mjd  fiberid  \\\n",
       "0  17.04240  15.94699  ...  15.22531  3.720000e+18   3306  54922      491   \n",
       "1  17.21449  16.67637  ...  16.39150  3.640000e+17    323  51615      541   \n",
       "2  18.19169  17.47428  ...  16.80125  3.230000e+17    287  52023      513   \n",
       "3  16.60272  16.16116  ...  15.90438  3.720000e+18   3306  54922      510   \n",
       "4  16.26342  16.43869  ...  16.61326  3.720000e+18   3306  54922      512   \n",
       "\n",
       "   redshift   class           l          b    distance  \n",
       "0 -0.000009    STAR  283.064461  61.513772   -0.038750  \n",
       "1 -0.000055    STAR  283.169750  61.577466   -0.237432  \n",
       "2  0.123111  GALAXY  283.339557  61.593309  517.978264  \n",
       "3 -0.000111    STAR  283.769013  61.576636   -0.478399  \n",
       "4  0.000590    STAR  283.762324  61.630713    2.552829  \n",
       "\n",
       "[5 rows x 21 columns]"
      ]
     },
     "execution_count": 14,
     "metadata": {},
     "output_type": "execute_result"
    }
   ],
   "source": [
    "from astropy import units as u\n",
    "from astropy.coordinates import SkyCoord\n",
    "from astropy.cosmology import WMAP9 as cosmo\n",
    "\n",
    "radec = SkyCoord(ra=df['ra']*u.degree, dec=df['dec']*u.degree, frame='icrs')\n",
    "#radec.ra.value\n",
    "#radec.dec.value\n",
    "galactic = radec.galactic\n",
    "\n",
    "df['l'] = galactic.l.value\n",
    "df['b'] = galactic.b.value\n",
    "\n",
    "\n",
    "r = cosmo.comoving_distance(df['redshift'])\n",
    "df['distance']= r.value\n",
    "\n",
    "df.head()"
   ]
  },
  {
   "cell_type": "code",
   "execution_count": 15,
   "metadata": {},
   "outputs": [
    {
     "data": {
      "text/html": [
       "<div>\n",
       "<style scoped>\n",
       "    .dataframe tbody tr th:only-of-type {\n",
       "        vertical-align: middle;\n",
       "    }\n",
       "\n",
       "    .dataframe tbody tr th {\n",
       "        vertical-align: top;\n",
       "    }\n",
       "\n",
       "    .dataframe thead th {\n",
       "        text-align: right;\n",
       "    }\n",
       "</style>\n",
       "<table border=\"1\" class=\"dataframe\">\n",
       "  <thead>\n",
       "    <tr style=\"text-align: right;\">\n",
       "      <th></th>\n",
       "      <th>objid</th>\n",
       "      <th>ra</th>\n",
       "      <th>dec</th>\n",
       "      <th>run</th>\n",
       "      <th>rerun</th>\n",
       "      <th>camcol</th>\n",
       "      <th>field</th>\n",
       "      <th>u</th>\n",
       "      <th>g</th>\n",
       "      <th>r</th>\n",
       "      <th>...</th>\n",
       "      <th>mjd</th>\n",
       "      <th>fiberid</th>\n",
       "      <th>redshift</th>\n",
       "      <th>class</th>\n",
       "      <th>l</th>\n",
       "      <th>b</th>\n",
       "      <th>distance</th>\n",
       "      <th>x_coord</th>\n",
       "      <th>y_coord</th>\n",
       "      <th>z_coord</th>\n",
       "    </tr>\n",
       "  </thead>\n",
       "  <tbody>\n",
       "    <tr>\n",
       "      <th>0</th>\n",
       "      <td>1.240000e+18</td>\n",
       "      <td>183.531326</td>\n",
       "      <td>0.089693</td>\n",
       "      <td>752</td>\n",
       "      <td>301</td>\n",
       "      <td>4</td>\n",
       "      <td>267</td>\n",
       "      <td>19.47406</td>\n",
       "      <td>17.04240</td>\n",
       "      <td>15.94699</td>\n",
       "      <td>...</td>\n",
       "      <td>54922</td>\n",
       "      <td>491</td>\n",
       "      <td>-0.000009</td>\n",
       "      <td>STAR</td>\n",
       "      <td>283.064461</td>\n",
       "      <td>61.513772</td>\n",
       "      <td>-0.038750</td>\n",
       "      <td>0.038676</td>\n",
       "      <td>0.002387</td>\n",
       "      <td>-0.000061</td>\n",
       "    </tr>\n",
       "    <tr>\n",
       "      <th>1</th>\n",
       "      <td>1.240000e+18</td>\n",
       "      <td>183.598370</td>\n",
       "      <td>0.135285</td>\n",
       "      <td>752</td>\n",
       "      <td>301</td>\n",
       "      <td>4</td>\n",
       "      <td>267</td>\n",
       "      <td>18.66280</td>\n",
       "      <td>17.21449</td>\n",
       "      <td>16.67637</td>\n",
       "      <td>...</td>\n",
       "      <td>51615</td>\n",
       "      <td>541</td>\n",
       "      <td>-0.000055</td>\n",
       "      <td>STAR</td>\n",
       "      <td>283.169750</td>\n",
       "      <td>61.577466</td>\n",
       "      <td>-0.237432</td>\n",
       "      <td>0.236963</td>\n",
       "      <td>0.014902</td>\n",
       "      <td>-0.000561</td>\n",
       "    </tr>\n",
       "    <tr>\n",
       "      <th>2</th>\n",
       "      <td>1.240000e+18</td>\n",
       "      <td>183.680207</td>\n",
       "      <td>0.126185</td>\n",
       "      <td>752</td>\n",
       "      <td>301</td>\n",
       "      <td>4</td>\n",
       "      <td>268</td>\n",
       "      <td>19.38298</td>\n",
       "      <td>18.19169</td>\n",
       "      <td>17.47428</td>\n",
       "      <td>...</td>\n",
       "      <td>52023</td>\n",
       "      <td>513</td>\n",
       "      <td>0.123111</td>\n",
       "      <td>GALAXY</td>\n",
       "      <td>283.339557</td>\n",
       "      <td>61.593309</td>\n",
       "      <td>517.978264</td>\n",
       "      <td>-516.908862</td>\n",
       "      <td>-33.247690</td>\n",
       "      <td>1.140766</td>\n",
       "    </tr>\n",
       "    <tr>\n",
       "      <th>3</th>\n",
       "      <td>1.240000e+18</td>\n",
       "      <td>183.870529</td>\n",
       "      <td>0.049911</td>\n",
       "      <td>752</td>\n",
       "      <td>301</td>\n",
       "      <td>4</td>\n",
       "      <td>269</td>\n",
       "      <td>17.76536</td>\n",
       "      <td>16.60272</td>\n",
       "      <td>16.16116</td>\n",
       "      <td>...</td>\n",
       "      <td>54922</td>\n",
       "      <td>510</td>\n",
       "      <td>-0.000111</td>\n",
       "      <td>STAR</td>\n",
       "      <td>283.769013</td>\n",
       "      <td>61.576636</td>\n",
       "      <td>-0.478399</td>\n",
       "      <td>0.477308</td>\n",
       "      <td>0.032293</td>\n",
       "      <td>-0.000417</td>\n",
       "    </tr>\n",
       "    <tr>\n",
       "      <th>4</th>\n",
       "      <td>1.240000e+18</td>\n",
       "      <td>183.883288</td>\n",
       "      <td>0.102557</td>\n",
       "      <td>752</td>\n",
       "      <td>301</td>\n",
       "      <td>4</td>\n",
       "      <td>269</td>\n",
       "      <td>17.55025</td>\n",
       "      <td>16.26342</td>\n",
       "      <td>16.43869</td>\n",
       "      <td>...</td>\n",
       "      <td>54922</td>\n",
       "      <td>512</td>\n",
       "      <td>0.000590</td>\n",
       "      <td>STAR</td>\n",
       "      <td>283.762324</td>\n",
       "      <td>61.630713</td>\n",
       "      <td>2.552829</td>\n",
       "      <td>-2.546964</td>\n",
       "      <td>-0.172888</td>\n",
       "      <td>0.004569</td>\n",
       "    </tr>\n",
       "  </tbody>\n",
       "</table>\n",
       "<p>5 rows × 24 columns</p>\n",
       "</div>"
      ],
      "text/plain": [
       "          objid          ra       dec  run  rerun  camcol  field         u  \\\n",
       "0  1.240000e+18  183.531326  0.089693  752    301       4    267  19.47406   \n",
       "1  1.240000e+18  183.598370  0.135285  752    301       4    267  18.66280   \n",
       "2  1.240000e+18  183.680207  0.126185  752    301       4    268  19.38298   \n",
       "3  1.240000e+18  183.870529  0.049911  752    301       4    269  17.76536   \n",
       "4  1.240000e+18  183.883288  0.102557  752    301       4    269  17.55025   \n",
       "\n",
       "          g         r  ...    mjd  fiberid  redshift   class           l  \\\n",
       "0  17.04240  15.94699  ...  54922      491 -0.000009    STAR  283.064461   \n",
       "1  17.21449  16.67637  ...  51615      541 -0.000055    STAR  283.169750   \n",
       "2  18.19169  17.47428  ...  52023      513  0.123111  GALAXY  283.339557   \n",
       "3  16.60272  16.16116  ...  54922      510 -0.000111    STAR  283.769013   \n",
       "4  16.26342  16.43869  ...  54922      512  0.000590    STAR  283.762324   \n",
       "\n",
       "           b    distance     x_coord    y_coord   z_coord  \n",
       "0  61.513772   -0.038750    0.038676   0.002387 -0.000061  \n",
       "1  61.577466   -0.237432    0.236963   0.014902 -0.000561  \n",
       "2  61.593309  517.978264 -516.908862 -33.247690  1.140766  \n",
       "3  61.576636   -0.478399    0.477308   0.032293 -0.000417  \n",
       "4  61.630713    2.552829   -2.546964  -0.172888  0.004569  \n",
       "\n",
       "[5 rows x 24 columns]"
      ]
     },
     "execution_count": 15,
     "metadata": {},
     "output_type": "execute_result"
    }
   ],
   "source": [
    "def cartesian(dist,alpha,delta):\n",
    "    x = dist*np.cos(np.deg2rad(delta))*np.cos(np.deg2rad(alpha))\n",
    "    y = dist*np.cos(np.deg2rad(delta))*np.sin(np.deg2rad(alpha))\n",
    "    z = dist*np.sin(np.deg2rad(delta))\n",
    "    return x,y,z\n",
    "\n",
    "cart = cartesian(df['distance'],df['ra'],df['dec'])\n",
    "df['x_coord'] = cart[0]\n",
    "df['y_coord'] = cart[1]\n",
    "df['z_coord'] = cart[2]\n",
    "\n",
    "df.head()"
   ]
  },
  {
   "cell_type": "code",
   "execution_count": 16,
   "metadata": {},
   "outputs": [],
   "source": [
    "df['u-r'] = df['u']-df['r']"
   ]
  },
  {
   "cell_type": "code",
   "execution_count": 17,
   "metadata": {},
   "outputs": [],
   "source": [
    "galaxy = df[df['class']=='GALAXY']\n",
    "star = df[df['class']=='STAR']\n",
    "quasar = df[df['class']=='QSO']"
   ]
  },
  {
   "cell_type": "code",
   "execution_count": 32,
   "metadata": {},
   "outputs": [
    {
     "data": {
      "text/html": [
       "<div>\n",
       "<style scoped>\n",
       "    .dataframe tbody tr th:only-of-type {\n",
       "        vertical-align: middle;\n",
       "    }\n",
       "\n",
       "    .dataframe tbody tr th {\n",
       "        vertical-align: top;\n",
       "    }\n",
       "\n",
       "    .dataframe thead th {\n",
       "        text-align: right;\n",
       "    }\n",
       "</style>\n",
       "<table border=\"1\" class=\"dataframe\">\n",
       "  <thead>\n",
       "    <tr style=\"text-align: right;\">\n",
       "      <th></th>\n",
       "      <th>objid</th>\n",
       "      <th>ra</th>\n",
       "      <th>dec</th>\n",
       "      <th>run</th>\n",
       "      <th>rerun</th>\n",
       "      <th>camcol</th>\n",
       "      <th>field</th>\n",
       "      <th>u</th>\n",
       "      <th>g</th>\n",
       "      <th>r</th>\n",
       "      <th>...</th>\n",
       "      <th>fiberid</th>\n",
       "      <th>redshift</th>\n",
       "      <th>class</th>\n",
       "      <th>l</th>\n",
       "      <th>b</th>\n",
       "      <th>distance</th>\n",
       "      <th>x_coord</th>\n",
       "      <th>y_coord</th>\n",
       "      <th>z_coord</th>\n",
       "      <th>u-r</th>\n",
       "    </tr>\n",
       "  </thead>\n",
       "  <tbody>\n",
       "    <tr>\n",
       "      <th>0</th>\n",
       "      <td>1.240000e+18</td>\n",
       "      <td>183.531326</td>\n",
       "      <td>0.089693</td>\n",
       "      <td>752</td>\n",
       "      <td>301</td>\n",
       "      <td>4</td>\n",
       "      <td>267</td>\n",
       "      <td>19.47406</td>\n",
       "      <td>17.04240</td>\n",
       "      <td>15.94699</td>\n",
       "      <td>...</td>\n",
       "      <td>491</td>\n",
       "      <td>-0.000009</td>\n",
       "      <td>STAR</td>\n",
       "      <td>283.064461</td>\n",
       "      <td>61.513772</td>\n",
       "      <td>-0.038750</td>\n",
       "      <td>0.038676</td>\n",
       "      <td>0.002387</td>\n",
       "      <td>-0.000061</td>\n",
       "      <td>3.52707</td>\n",
       "    </tr>\n",
       "    <tr>\n",
       "      <th>1</th>\n",
       "      <td>1.240000e+18</td>\n",
       "      <td>183.598370</td>\n",
       "      <td>0.135285</td>\n",
       "      <td>752</td>\n",
       "      <td>301</td>\n",
       "      <td>4</td>\n",
       "      <td>267</td>\n",
       "      <td>18.66280</td>\n",
       "      <td>17.21449</td>\n",
       "      <td>16.67637</td>\n",
       "      <td>...</td>\n",
       "      <td>541</td>\n",
       "      <td>-0.000055</td>\n",
       "      <td>STAR</td>\n",
       "      <td>283.169750</td>\n",
       "      <td>61.577466</td>\n",
       "      <td>-0.237432</td>\n",
       "      <td>0.236963</td>\n",
       "      <td>0.014902</td>\n",
       "      <td>-0.000561</td>\n",
       "      <td>1.98643</td>\n",
       "    </tr>\n",
       "    <tr>\n",
       "      <th>2</th>\n",
       "      <td>1.240000e+18</td>\n",
       "      <td>183.680207</td>\n",
       "      <td>0.126185</td>\n",
       "      <td>752</td>\n",
       "      <td>301</td>\n",
       "      <td>4</td>\n",
       "      <td>268</td>\n",
       "      <td>19.38298</td>\n",
       "      <td>18.19169</td>\n",
       "      <td>17.47428</td>\n",
       "      <td>...</td>\n",
       "      <td>513</td>\n",
       "      <td>0.123111</td>\n",
       "      <td>GALAXY</td>\n",
       "      <td>283.339557</td>\n",
       "      <td>61.593309</td>\n",
       "      <td>517.978264</td>\n",
       "      <td>-516.908862</td>\n",
       "      <td>-33.247690</td>\n",
       "      <td>1.140766</td>\n",
       "      <td>1.90870</td>\n",
       "    </tr>\n",
       "    <tr>\n",
       "      <th>3</th>\n",
       "      <td>1.240000e+18</td>\n",
       "      <td>183.870529</td>\n",
       "      <td>0.049911</td>\n",
       "      <td>752</td>\n",
       "      <td>301</td>\n",
       "      <td>4</td>\n",
       "      <td>269</td>\n",
       "      <td>17.76536</td>\n",
       "      <td>16.60272</td>\n",
       "      <td>16.16116</td>\n",
       "      <td>...</td>\n",
       "      <td>510</td>\n",
       "      <td>-0.000111</td>\n",
       "      <td>STAR</td>\n",
       "      <td>283.769013</td>\n",
       "      <td>61.576636</td>\n",
       "      <td>-0.478399</td>\n",
       "      <td>0.477308</td>\n",
       "      <td>0.032293</td>\n",
       "      <td>-0.000417</td>\n",
       "      <td>1.60420</td>\n",
       "    </tr>\n",
       "    <tr>\n",
       "      <th>4</th>\n",
       "      <td>1.240000e+18</td>\n",
       "      <td>183.883288</td>\n",
       "      <td>0.102557</td>\n",
       "      <td>752</td>\n",
       "      <td>301</td>\n",
       "      <td>4</td>\n",
       "      <td>269</td>\n",
       "      <td>17.55025</td>\n",
       "      <td>16.26342</td>\n",
       "      <td>16.43869</td>\n",
       "      <td>...</td>\n",
       "      <td>512</td>\n",
       "      <td>0.000590</td>\n",
       "      <td>STAR</td>\n",
       "      <td>283.762324</td>\n",
       "      <td>61.630713</td>\n",
       "      <td>2.552829</td>\n",
       "      <td>-2.546964</td>\n",
       "      <td>-0.172888</td>\n",
       "      <td>0.004569</td>\n",
       "      <td>1.11156</td>\n",
       "    </tr>\n",
       "  </tbody>\n",
       "</table>\n",
       "<p>5 rows × 25 columns</p>\n",
       "</div>"
      ],
      "text/plain": [
       "          objid          ra       dec  run  rerun  camcol  field         u  \\\n",
       "0  1.240000e+18  183.531326  0.089693  752    301       4    267  19.47406   \n",
       "1  1.240000e+18  183.598370  0.135285  752    301       4    267  18.66280   \n",
       "2  1.240000e+18  183.680207  0.126185  752    301       4    268  19.38298   \n",
       "3  1.240000e+18  183.870529  0.049911  752    301       4    269  17.76536   \n",
       "4  1.240000e+18  183.883288  0.102557  752    301       4    269  17.55025   \n",
       "\n",
       "          g         r  ...  fiberid  redshift   class           l          b  \\\n",
       "0  17.04240  15.94699  ...      491 -0.000009    STAR  283.064461  61.513772   \n",
       "1  17.21449  16.67637  ...      541 -0.000055    STAR  283.169750  61.577466   \n",
       "2  18.19169  17.47428  ...      513  0.123111  GALAXY  283.339557  61.593309   \n",
       "3  16.60272  16.16116  ...      510 -0.000111    STAR  283.769013  61.576636   \n",
       "4  16.26342  16.43869  ...      512  0.000590    STAR  283.762324  61.630713   \n",
       "\n",
       "     distance     x_coord    y_coord   z_coord      u-r  \n",
       "0   -0.038750    0.038676   0.002387 -0.000061  3.52707  \n",
       "1   -0.237432    0.236963   0.014902 -0.000561  1.98643  \n",
       "2  517.978264 -516.908862 -33.247690  1.140766  1.90870  \n",
       "3   -0.478399    0.477308   0.032293 -0.000417  1.60420  \n",
       "4    2.552829   -2.546964  -0.172888  0.004569  1.11156  \n",
       "\n",
       "[5 rows x 25 columns]"
      ]
     },
     "execution_count": 32,
     "metadata": {},
     "output_type": "execute_result"
    }
   ],
   "source": [
    "df.head()"
   ]
  },
  {
   "cell_type": "code",
   "execution_count": 34,
   "metadata": {},
   "outputs": [
    {
     "data": {
      "text/html": [
       "<div>\n",
       "<style scoped>\n",
       "    .dataframe tbody tr th:only-of-type {\n",
       "        vertical-align: middle;\n",
       "    }\n",
       "\n",
       "    .dataframe tbody tr th {\n",
       "        vertical-align: top;\n",
       "    }\n",
       "\n",
       "    .dataframe thead th {\n",
       "        text-align: right;\n",
       "    }\n",
       "</style>\n",
       "<table border=\"1\" class=\"dataframe\">\n",
       "  <thead>\n",
       "    <tr style=\"text-align: right;\">\n",
       "      <th></th>\n",
       "      <th>objid</th>\n",
       "      <th>ra</th>\n",
       "      <th>dec</th>\n",
       "      <th>run</th>\n",
       "      <th>rerun</th>\n",
       "      <th>camcol</th>\n",
       "      <th>field</th>\n",
       "      <th>u</th>\n",
       "      <th>g</th>\n",
       "      <th>r</th>\n",
       "      <th>...</th>\n",
       "      <th>fiberid</th>\n",
       "      <th>redshift</th>\n",
       "      <th>class</th>\n",
       "      <th>l</th>\n",
       "      <th>b</th>\n",
       "      <th>distance</th>\n",
       "      <th>x_coord</th>\n",
       "      <th>y_coord</th>\n",
       "      <th>z_coord</th>\n",
       "      <th>u-r</th>\n",
       "    </tr>\n",
       "  </thead>\n",
       "  <tbody>\n",
       "    <tr>\n",
       "      <th>0</th>\n",
       "      <td>1.240000e+18</td>\n",
       "      <td>183.531326</td>\n",
       "      <td>0.089693</td>\n",
       "      <td>752</td>\n",
       "      <td>301</td>\n",
       "      <td>4</td>\n",
       "      <td>267</td>\n",
       "      <td>19.47406</td>\n",
       "      <td>17.04240</td>\n",
       "      <td>15.94699</td>\n",
       "      <td>...</td>\n",
       "      <td>491</td>\n",
       "      <td>-0.000009</td>\n",
       "      <td>STAR</td>\n",
       "      <td>283.064461</td>\n",
       "      <td>61.513772</td>\n",
       "      <td>-0.038750</td>\n",
       "      <td>0.038676</td>\n",
       "      <td>0.002387</td>\n",
       "      <td>-0.000061</td>\n",
       "      <td>3.52707</td>\n",
       "    </tr>\n",
       "    <tr>\n",
       "      <th>1</th>\n",
       "      <td>1.240000e+18</td>\n",
       "      <td>183.598370</td>\n",
       "      <td>0.135285</td>\n",
       "      <td>752</td>\n",
       "      <td>301</td>\n",
       "      <td>4</td>\n",
       "      <td>267</td>\n",
       "      <td>18.66280</td>\n",
       "      <td>17.21449</td>\n",
       "      <td>16.67637</td>\n",
       "      <td>...</td>\n",
       "      <td>541</td>\n",
       "      <td>-0.000055</td>\n",
       "      <td>STAR</td>\n",
       "      <td>283.169750</td>\n",
       "      <td>61.577466</td>\n",
       "      <td>-0.237432</td>\n",
       "      <td>0.236963</td>\n",
       "      <td>0.014902</td>\n",
       "      <td>-0.000561</td>\n",
       "      <td>1.98643</td>\n",
       "    </tr>\n",
       "    <tr>\n",
       "      <th>2</th>\n",
       "      <td>1.240000e+18</td>\n",
       "      <td>183.680207</td>\n",
       "      <td>0.126185</td>\n",
       "      <td>752</td>\n",
       "      <td>301</td>\n",
       "      <td>4</td>\n",
       "      <td>268</td>\n",
       "      <td>19.38298</td>\n",
       "      <td>18.19169</td>\n",
       "      <td>17.47428</td>\n",
       "      <td>...</td>\n",
       "      <td>513</td>\n",
       "      <td>0.123111</td>\n",
       "      <td>GALAXY</td>\n",
       "      <td>283.339557</td>\n",
       "      <td>61.593309</td>\n",
       "      <td>517.978264</td>\n",
       "      <td>-516.908862</td>\n",
       "      <td>-33.247690</td>\n",
       "      <td>1.140766</td>\n",
       "      <td>1.90870</td>\n",
       "    </tr>\n",
       "    <tr>\n",
       "      <th>3</th>\n",
       "      <td>1.240000e+18</td>\n",
       "      <td>183.870529</td>\n",
       "      <td>0.049911</td>\n",
       "      <td>752</td>\n",
       "      <td>301</td>\n",
       "      <td>4</td>\n",
       "      <td>269</td>\n",
       "      <td>17.76536</td>\n",
       "      <td>16.60272</td>\n",
       "      <td>16.16116</td>\n",
       "      <td>...</td>\n",
       "      <td>510</td>\n",
       "      <td>-0.000111</td>\n",
       "      <td>STAR</td>\n",
       "      <td>283.769013</td>\n",
       "      <td>61.576636</td>\n",
       "      <td>-0.478399</td>\n",
       "      <td>0.477308</td>\n",
       "      <td>0.032293</td>\n",
       "      <td>-0.000417</td>\n",
       "      <td>1.60420</td>\n",
       "    </tr>\n",
       "    <tr>\n",
       "      <th>4</th>\n",
       "      <td>1.240000e+18</td>\n",
       "      <td>183.883288</td>\n",
       "      <td>0.102557</td>\n",
       "      <td>752</td>\n",
       "      <td>301</td>\n",
       "      <td>4</td>\n",
       "      <td>269</td>\n",
       "      <td>17.55025</td>\n",
       "      <td>16.26342</td>\n",
       "      <td>16.43869</td>\n",
       "      <td>...</td>\n",
       "      <td>512</td>\n",
       "      <td>0.000590</td>\n",
       "      <td>STAR</td>\n",
       "      <td>283.762324</td>\n",
       "      <td>61.630713</td>\n",
       "      <td>2.552829</td>\n",
       "      <td>-2.546964</td>\n",
       "      <td>-0.172888</td>\n",
       "      <td>0.004569</td>\n",
       "      <td>1.11156</td>\n",
       "    </tr>\n",
       "  </tbody>\n",
       "</table>\n",
       "<p>5 rows × 25 columns</p>\n",
       "</div>"
      ],
      "text/plain": [
       "          objid          ra       dec  run  rerun  camcol  field         u  \\\n",
       "0  1.240000e+18  183.531326  0.089693  752    301       4    267  19.47406   \n",
       "1  1.240000e+18  183.598370  0.135285  752    301       4    267  18.66280   \n",
       "2  1.240000e+18  183.680207  0.126185  752    301       4    268  19.38298   \n",
       "3  1.240000e+18  183.870529  0.049911  752    301       4    269  17.76536   \n",
       "4  1.240000e+18  183.883288  0.102557  752    301       4    269  17.55025   \n",
       "\n",
       "          g         r  ...  fiberid  redshift   class           l          b  \\\n",
       "0  17.04240  15.94699  ...      491 -0.000009    STAR  283.064461  61.513772   \n",
       "1  17.21449  16.67637  ...      541 -0.000055    STAR  283.169750  61.577466   \n",
       "2  18.19169  17.47428  ...      513  0.123111  GALAXY  283.339557  61.593309   \n",
       "3  16.60272  16.16116  ...      510 -0.000111    STAR  283.769013  61.576636   \n",
       "4  16.26342  16.43869  ...      512  0.000590    STAR  283.762324  61.630713   \n",
       "\n",
       "     distance     x_coord    y_coord   z_coord      u-r  \n",
       "0   -0.038750    0.038676   0.002387 -0.000061  3.52707  \n",
       "1   -0.237432    0.236963   0.014902 -0.000561  1.98643  \n",
       "2  517.978264 -516.908862 -33.247690  1.140766  1.90870  \n",
       "3   -0.478399    0.477308   0.032293 -0.000417  1.60420  \n",
       "4    2.552829   -2.546964  -0.172888  0.004569  1.11156  \n",
       "\n",
       "[5 rows x 25 columns]"
      ]
     },
     "metadata": {},
     "output_type": "display_data"
    },
    {
     "data": {
      "text/plain": [
       "Index(['objid', 'ra', 'dec', 'run', 'rerun', 'camcol', 'field', 'u', 'g', 'r',\n",
       "       'i', 'z', 'specobjid', 'plate', 'mjd', 'fiberid', 'redshift', 'class',\n",
       "       'l', 'b', 'distance', 'x_coord', 'y_coord', 'z_coord', 'u-r'],\n",
       "      dtype='object')"
      ]
     },
     "metadata": {},
     "output_type": "display_data"
    }
   ],
   "source": [
    "display(df.head())\n",
    "display(df.columns)"
   ]
  },
  {
   "cell_type": "code",
   "execution_count": 35,
   "metadata": {},
   "outputs": [],
   "source": [
    "df['class'] = df['class'].astype('category').cat.codes"
   ]
  },
  {
   "cell_type": "code",
   "execution_count": 36,
   "metadata": {},
   "outputs": [
    {
     "data": {
      "text/plain": [
       "0    4998\n",
       "2    4152\n",
       "1     850\n",
       "Name: class, dtype: int64"
      ]
     },
     "execution_count": 36,
     "metadata": {},
     "output_type": "execute_result"
    }
   ],
   "source": [
    "df['class'].value_counts()"
   ]
  },
  {
   "cell_type": "markdown",
   "metadata": {},
   "source": [
    "### We need to change the object class into numerical label"
   ]
  },
  {
   "cell_type": "markdown",
   "metadata": {},
   "source": [
    "### 0s are galaxies, 2s are stars, and 1s are QSOs."
   ]
  },
  {
   "cell_type": "code",
   "execution_count": 37,
   "metadata": {},
   "outputs": [
    {
     "data": {
      "text/plain": [
       "Index(['objid', 'ra', 'dec', 'run', 'rerun', 'camcol', 'field', 'u', 'g', 'r',\n",
       "       'i', 'z', 'specobjid', 'plate', 'mjd', 'fiberid', 'redshift', 'class',\n",
       "       'l', 'b', 'distance', 'x_coord', 'y_coord', 'z_coord', 'u-r'],\n",
       "      dtype='object')"
      ]
     },
     "execution_count": 37,
     "metadata": {},
     "output_type": "execute_result"
    }
   ],
   "source": [
    "df.columns"
   ]
  },
  {
   "cell_type": "markdown",
   "metadata": {},
   "source": [
    "### I will not dropping RA and dec because a group of stars or galaxies could entangled in mutual gravitation, so they're located in a same area."
   ]
  },
  {
   "cell_type": "code",
   "execution_count": 38,
   "metadata": {},
   "outputs": [],
   "source": [
    "X_df = df.drop(['objid','ra','dec','run', 'rerun', 'camcol', 'field','specobjid', 'plate', 'mjd', 'fiberid','class','l', 'b', 'distance', 'x_coord', 'y_coord', 'z_coord', 'u-r'], axis=1).values\n",
    "y_df = df['class'].values"
   ]
  },
  {
   "cell_type": "code",
   "execution_count": 39,
   "metadata": {},
   "outputs": [
    {
     "data": {
      "text/plain": [
       "array([[ 1.947406e+01,  1.704240e+01,  1.594699e+01,  1.550342e+01,\n",
       "         1.522531e+01, -8.960000e-06],\n",
       "       [ 1.866280e+01,  1.721449e+01,  1.667637e+01,  1.648922e+01,\n",
       "         1.639150e+01, -5.490000e-05],\n",
       "       [ 1.938298e+01,  1.819169e+01,  1.747428e+01,  1.708732e+01,\n",
       "         1.680125e+01,  1.231112e-01],\n",
       "       ...,\n",
       "       [ 1.875818e+01,  1.777784e+01,  1.751872e+01,  1.743302e+01,\n",
       "         1.742048e+01, -4.015730e-04],\n",
       "       [ 1.888287e+01,  1.791068e+01,  1.753152e+01,  1.736284e+01,\n",
       "         1.713988e+01,  1.401894e-02],\n",
       "       [ 1.927586e+01,  1.737829e+01,  1.630542e+01,  1.583548e+01,\n",
       "         1.550588e+01,  1.184173e-01]])"
      ]
     },
     "metadata": {},
     "output_type": "display_data"
    },
    {
     "data": {
      "text/plain": [
       "array([2, 2, 0, ..., 2, 0, 0], dtype=int8)"
      ]
     },
     "metadata": {},
     "output_type": "display_data"
    }
   ],
   "source": [
    "display(X_df)\n",
    "display(y_df)"
   ]
  },
  {
   "cell_type": "markdown",
   "metadata": {},
   "source": [
    "### We use RA and dec first (note that some galaxies and stars grouping in same areas thanks to mutual gravitation)"
   ]
  },
  {
   "cell_type": "markdown",
   "metadata": {},
   "source": [
    "## Neural Network Model"
   ]
  },
  {
   "cell_type": "markdown",
   "metadata": {},
   "source": [
    "### We will try to use standard scaler first\n",
    "\n",
    "Standardize features by removing the mean and scaling to unit variance\n",
    "\n",
    "The standard score of a sample x is calculated as:\n",
    "\n",
    "$ z = (x - u) / s $"
   ]
  },
  {
   "cell_type": "code",
   "execution_count": 40,
   "metadata": {},
   "outputs": [],
   "source": [
    "from sklearn.preprocessing import StandardScaler, MinMaxScaler\n",
    "\n",
    "#ss = StandardScaler()\n",
    "#X_df = ss.fit_transform(X_df)\n",
    "minmax = MinMaxScaler()\n",
    "X_df = minmax.fit_transform(X_df)"
   ]
  },
  {
   "cell_type": "code",
   "execution_count": 41,
   "metadata": {},
   "outputs": [],
   "source": [
    "y_df = y_df.reshape(-1,1)"
   ]
  },
  {
   "cell_type": "code",
   "execution_count": 42,
   "metadata": {},
   "outputs": [
    {
     "data": {
      "text/plain": [
       "array([[9.80964857e-01, 5.95954446e-01, 2.84176634e-01, 2.19080704e-01,\n",
       "        3.22107524e-01, 7.70273543e-04],\n",
       "       [8.58249898e-01, 6.20126359e-01, 3.43138158e-01, 2.79811020e-01,\n",
       "        4.26021483e-01, 7.61699432e-04],\n",
       "       [9.67187673e-01, 7.57384731e-01, 4.07639502e-01, 3.16657036e-01,\n",
       "        4.62532468e-01, 2.37490694e-02],\n",
       "       ...,\n",
       "       [8.72677520e-01, 6.99254995e-01, 4.11231937e-01, 3.37953922e-01,\n",
       "        5.17709275e-01, 6.96997371e-04],\n",
       "       [8.91538709e-01, 7.17913819e-01, 4.12266661e-01, 3.33630475e-01,\n",
       "        4.92706268e-01, 3.38840082e-03],\n",
       "       [9.50984203e-01, 6.43133851e-01, 3.13151351e-01, 2.39537296e-01,\n",
       "        3.47107858e-01, 2.28730132e-02]])"
      ]
     },
     "metadata": {},
     "output_type": "display_data"
    },
    {
     "data": {
      "text/plain": [
       "array([[2],\n",
       "       [2],\n",
       "       [0],\n",
       "       ...,\n",
       "       [2],\n",
       "       [0],\n",
       "       [0]], dtype=int8)"
      ]
     },
     "metadata": {},
     "output_type": "display_data"
    }
   ],
   "source": [
    "display(X_df)\n",
    "display(y_df)"
   ]
  },
  {
   "cell_type": "code",
   "execution_count": 43,
   "metadata": {},
   "outputs": [],
   "source": [
    "from sklearn.preprocessing import OneHotEncoder\n",
    "\n",
    "enc = OneHotEncoder()\n",
    "y_df = enc.fit_transform(y_df).toarray()"
   ]
  },
  {
   "cell_type": "code",
   "execution_count": 44,
   "metadata": {},
   "outputs": [],
   "source": [
    "from sklearn.model_selection import train_test_split\n",
    "\n",
    "X_train, X_test, y_train, y_test = train_test_split(X_df,y_df, test_size=0.25)\n",
    "early_stop = EarlyStopping(monitor='accuracy', patience=5, restore_best_weights=True)"
   ]
  },
  {
   "cell_type": "code",
   "execution_count": 45,
   "metadata": {},
   "outputs": [
    {
     "data": {
      "text/plain": [
       "(7500, 6)"
      ]
     },
     "execution_count": 45,
     "metadata": {},
     "output_type": "execute_result"
    }
   ],
   "source": [
    "X_train.shape"
   ]
  },
  {
   "cell_type": "code",
   "execution_count": 46,
   "metadata": {},
   "outputs": [
    {
     "data": {
      "text/plain": [
       "(7500, 3)"
      ]
     },
     "execution_count": 46,
     "metadata": {},
     "output_type": "execute_result"
    }
   ],
   "source": [
    "y_train.shape"
   ]
  },
  {
   "cell_type": "code",
   "execution_count": 47,
   "metadata": {},
   "outputs": [],
   "source": [
    "import keras\n",
    "from keras.models import Sequential\n",
    "from keras.layers import Dense"
   ]
  },
  {
   "cell_type": "code",
   "execution_count": 119,
   "metadata": {},
   "outputs": [],
   "source": [
    "model = Sequential()\n",
    "model.add(Dense(64, input_dim=6, activation='sigmoid'))\n",
    "model.add(Dense(32, activation='sigmoid'))\n",
    "model.add(Dense(16, activation='sigmoid'))\n",
    "model.add(Dense(3, activation='softmax'))\n",
    "model.compile(loss='categorical_crossentropy', optimizer='adam', metrics=['accuracy'])"
   ]
  },
  {
   "cell_type": "code",
   "execution_count": 128,
   "metadata": {},
   "outputs": [
    {
     "name": "stdout",
     "output_type": "stream",
     "text": [
      "Epoch 1/40\n",
      "211/211 [==============================] - 1s 6ms/step - loss: 0.1461 - accuracy: 0.9622 - val_loss: 0.1387 - val_accuracy: 0.9520\n",
      "Epoch 2/40\n",
      "211/211 [==============================] - 1s 5ms/step - loss: 0.1312 - accuracy: 0.9676 - val_loss: 0.1208 - val_accuracy: 0.9667\n",
      "Epoch 3/40\n",
      "211/211 [==============================] - 1s 5ms/step - loss: 0.1228 - accuracy: 0.9713 - val_loss: 0.1230 - val_accuracy: 0.9733\n",
      "Epoch 4/40\n",
      "211/211 [==============================] - 1s 5ms/step - loss: 0.1158 - accuracy: 0.9719 - val_loss: 0.1154 - val_accuracy: 0.9733\n",
      "Epoch 5/40\n",
      "211/211 [==============================] - 1s 5ms/step - loss: 0.1123 - accuracy: 0.9721 - val_loss: 0.1212 - val_accuracy: 0.9560\n",
      "Epoch 6/40\n",
      "211/211 [==============================] - 1s 5ms/step - loss: 0.1102 - accuracy: 0.9717 - val_loss: 0.1066 - val_accuracy: 0.9747\n",
      "Epoch 7/40\n",
      "211/211 [==============================] - 1s 5ms/step - loss: 0.1086 - accuracy: 0.9726 - val_loss: 0.0973 - val_accuracy: 0.9720\n",
      "Epoch 8/40\n",
      "211/211 [==============================] - 1s 5ms/step - loss: 0.1089 - accuracy: 0.9717 - val_loss: 0.0987 - val_accuracy: 0.9680\n",
      "Epoch 9/40\n",
      "211/211 [==============================] - 1s 5ms/step - loss: 0.1016 - accuracy: 0.9759 - val_loss: 0.0956 - val_accuracy: 0.9733\n",
      "Epoch 10/40\n",
      "211/211 [==============================] - 1s 5ms/step - loss: 0.0963 - accuracy: 0.9760 - val_loss: 0.0907 - val_accuracy: 0.9733\n",
      "Epoch 11/40\n",
      "211/211 [==============================] - 1s 5ms/step - loss: 0.0964 - accuracy: 0.9750 - val_loss: 0.1057 - val_accuracy: 0.9800\n",
      "Epoch 12/40\n",
      "211/211 [==============================] - 1s 5ms/step - loss: 0.0957 - accuracy: 0.9760 - val_loss: 0.0875 - val_accuracy: 0.9733\n",
      "Epoch 13/40\n",
      "211/211 [==============================] - 1s 5ms/step - loss: 0.0964 - accuracy: 0.9767 - val_loss: 0.0945 - val_accuracy: 0.9773\n",
      "Epoch 14/40\n",
      "211/211 [==============================] - 1s 5ms/step - loss: 0.0927 - accuracy: 0.9773 - val_loss: 0.0960 - val_accuracy: 0.9693\n",
      "Epoch 15/40\n",
      "211/211 [==============================] - 1s 5ms/step - loss: 0.0918 - accuracy: 0.9778 - val_loss: 0.0894 - val_accuracy: 0.9773\n",
      "Epoch 16/40\n",
      "211/211 [==============================] - 1s 5ms/step - loss: 0.0895 - accuracy: 0.9785 - val_loss: 0.0925 - val_accuracy: 0.9707\n",
      "Epoch 17/40\n",
      "211/211 [==============================] - 1s 6ms/step - loss: 0.0878 - accuracy: 0.9785 - val_loss: 0.0842 - val_accuracy: 0.9773\n",
      "Epoch 18/40\n",
      "211/211 [==============================] - 1s 5ms/step - loss: 0.0923 - accuracy: 0.9763 - val_loss: 0.0878 - val_accuracy: 0.9720\n",
      "Epoch 19/40\n",
      "211/211 [==============================] - 1s 5ms/step - loss: 0.0887 - accuracy: 0.9779 - val_loss: 0.0901 - val_accuracy: 0.9707\n",
      "Epoch 20/40\n",
      "211/211 [==============================] - 1s 5ms/step - loss: 0.0888 - accuracy: 0.9770 - val_loss: 0.0788 - val_accuracy: 0.9773\n",
      "Epoch 21/40\n",
      "211/211 [==============================] - 1s 5ms/step - loss: 0.0849 - accuracy: 0.9791 - val_loss: 0.0816 - val_accuracy: 0.9800\n",
      "Epoch 22/40\n",
      "211/211 [==============================] - 1s 5ms/step - loss: 0.0838 - accuracy: 0.9790 - val_loss: 0.0795 - val_accuracy: 0.9747\n",
      "Epoch 23/40\n",
      "211/211 [==============================] - 1s 5ms/step - loss: 0.0813 - accuracy: 0.9797 - val_loss: 0.0767 - val_accuracy: 0.9773\n",
      "Epoch 24/40\n",
      "211/211 [==============================] - 1s 5ms/step - loss: 0.0848 - accuracy: 0.9785 - val_loss: 0.0796 - val_accuracy: 0.9787\n",
      "Epoch 25/40\n",
      "211/211 [==============================] - 1s 5ms/step - loss: 0.0854 - accuracy: 0.9796 - val_loss: 0.0757 - val_accuracy: 0.9760\n",
      "Epoch 26/40\n",
      "211/211 [==============================] - 1s 5ms/step - loss: 0.0828 - accuracy: 0.9799 - val_loss: 0.0762 - val_accuracy: 0.9773\n",
      "Epoch 27/40\n",
      "211/211 [==============================] - 1s 5ms/step - loss: 0.0809 - accuracy: 0.9806 - val_loss: 0.0750 - val_accuracy: 0.9773\n",
      "Epoch 28/40\n",
      "211/211 [==============================] - 1s 5ms/step - loss: 0.0799 - accuracy: 0.9799 - val_loss: 0.0762 - val_accuracy: 0.9760\n",
      "Epoch 29/40\n",
      "211/211 [==============================] - 1s 5ms/step - loss: 0.0809 - accuracy: 0.9804 - val_loss: 0.0847 - val_accuracy: 0.9800\n",
      "Epoch 30/40\n",
      "211/211 [==============================] - 1s 5ms/step - loss: 0.0817 - accuracy: 0.9797 - val_loss: 0.0739 - val_accuracy: 0.9773\n",
      "Epoch 31/40\n",
      "211/211 [==============================] - 1s 5ms/step - loss: 0.0785 - accuracy: 0.9799 - val_loss: 0.0748 - val_accuracy: 0.9733\n",
      "Epoch 32/40\n",
      "211/211 [==============================] - 1s 5ms/step - loss: 0.0792 - accuracy: 0.9804 - val_loss: 0.0792 - val_accuracy: 0.9813\n",
      "Training time for NN: 36.06989620000002\n"
     ]
    }
   ],
   "source": [
    "start_time_train = timeit.default_timer()\n",
    "history = model.fit(X_train, y_train, validation_split = 0.1, epochs=40, batch_size=32,callbacks=[early_stop])\n",
    "upsampling_elapsed = timeit.default_timer() - start_time_train\n",
    "print('Training time for NN: ' + str(upsampling_elapsed))"
   ]
  },
  {
   "cell_type": "code",
   "execution_count": 129,
   "metadata": {},
   "outputs": [],
   "source": [
    "model.save_weights('model_final_test_run1.h5')"
   ]
  },
  {
   "cell_type": "code",
   "execution_count": 130,
   "metadata": {},
   "outputs": [],
   "source": [
    "prediction = []\n",
    "test = []"
   ]
  },
  {
   "cell_type": "code",
   "execution_count": 131,
   "metadata": {},
   "outputs": [],
   "source": [
    "y_predict = model.predict(X_test)"
   ]
  },
  {
   "cell_type": "code",
   "execution_count": 132,
   "metadata": {},
   "outputs": [],
   "source": [
    "for i in range(len(y_test)): \n",
    "    prediction.append(np.argmax(y_predict[i]))\n",
    "    test.append(np.argmax(y_test[i])) "
   ]
  },
  {
   "cell_type": "code",
   "execution_count": 133,
   "metadata": {},
   "outputs": [
    {
     "name": "stdout",
     "output_type": "stream",
     "text": [
      "Accuracy CNN is: 98.44000000000001 %\n"
     ]
    }
   ],
   "source": [
    "from sklearn.metrics import accuracy_score\n",
    "acc = accuracy_score(prediction,test) \n",
    "print('Accuracy CNN is:', acc*100, '%')"
   ]
  },
  {
   "cell_type": "code",
   "execution_count": 134,
   "metadata": {},
   "outputs": [
    {
     "name": "stdout",
     "output_type": "stream",
     "text": [
      "              precision    recall  f1-score   support\n",
      "\n",
      "           0       0.99      0.98      0.98      1256\n",
      "           1       0.97      0.95      0.96       217\n",
      "           2       0.98      1.00      0.99      1027\n",
      "\n",
      "    accuracy                           0.98      2500\n",
      "   macro avg       0.98      0.98      0.98      2500\n",
      "weighted avg       0.98      0.98      0.98      2500\n",
      "\n"
     ]
    }
   ],
   "source": [
    "print(classification_report(test, prediction))"
   ]
  },
  {
   "cell_type": "code",
   "execution_count": 135,
   "metadata": {},
   "outputs": [
    {
     "data": {
      "text/plain": [
       "array([[1233,    7,   16],\n",
       "       [  11,  206,    0],\n",
       "       [   5,    0, 1022]], dtype=int64)"
      ]
     },
     "execution_count": 135,
     "metadata": {},
     "output_type": "execute_result"
    }
   ],
   "source": [
    "confusion_matrix(test, prediction)"
   ]
  },
  {
   "cell_type": "markdown",
   "metadata": {},
   "source": [
    "# SVM"
   ]
  },
  {
   "cell_type": "code",
   "execution_count": 136,
   "metadata": {},
   "outputs": [],
   "source": [
    "from sklearn import svm, datasets\n",
    "import sklearn.model_selection as model_selection\n",
    "from sklearn.metrics import accuracy_score\n",
    "from sklearn.metrics import f1_score"
   ]
  },
  {
   "cell_type": "code",
   "execution_count": 137,
   "metadata": {},
   "outputs": [],
   "source": [
    "data=pd.read_csv('input/Skyserver_SQL2_27_2018 6_51_39 PM.csv')\n",
    "def ToTheEnd(df,column):\n",
    "    Target_data=df[column]\n",
    "    df=df.drop([column],axis=1)\n",
    "    df[column]=Target_data\n",
    "    return df\n",
    "\n",
    "data=ToTheEnd(data,'class')\n",
    "data['class']=data['class'].map({'STAR':0,'GALAXY':1,'QSO':2}).astype(int)\n",
    "data=data.drop(['objid','rerun','specobjid','fiberid','ra','dec','camcol','plate', 'mjd',],axis=1)\n",
    "X=data.drop(['class'],axis=1)\n",
    "y=data['class']\n",
    "X=StandardScaler().fit_transform(X)\n",
    "X_train, X_test, y_train, y_test = train_test_split(X, y, test_size=0.20, random_state=44, shuffle =True)"
   ]
  },
  {
   "cell_type": "code",
   "execution_count": 138,
   "metadata": {},
   "outputs": [
    {
     "name": "stdout",
     "output_type": "stream",
     "text": [
      "Training time for RBF: 1.7630772999999635\n",
      "Training time for POLY: 1.6903180000000475\n"
     ]
    }
   ],
   "source": [
    "start_time_train = timeit.default_timer()\n",
    "rbf = svm.SVC(kernel='rbf', gamma=0.5, C=0.1).fit(X_train, y_train)\n",
    "upsampling_elapsed = timeit.default_timer() - start_time_train\n",
    "print('Training time for RBF: ' + str(upsampling_elapsed))\n",
    "\n",
    "start_time_train = timeit.default_timer()\n",
    "poly = svm.SVC(kernel='poly', degree=3, C=1).fit(X_train, y_train)\n",
    "upsampling_elapsed = timeit.default_timer() - start_time_train\n",
    "print('Training time for POLY: ' + str(upsampling_elapsed))"
   ]
  },
  {
   "cell_type": "code",
   "execution_count": 139,
   "metadata": {},
   "outputs": [],
   "source": [
    "poly_pred = poly.predict(X_test)\n",
    "rbf_pred = rbf.predict(X_test)"
   ]
  },
  {
   "cell_type": "code",
   "execution_count": 140,
   "metadata": {},
   "outputs": [
    {
     "name": "stdout",
     "output_type": "stream",
     "text": [
      "Accuracy (Polynomial Kernel):  90.30\n",
      "F1 (Polynomial Kernel):  90.29\n"
     ]
    }
   ],
   "source": [
    "poly_accuracy = accuracy_score(y_test, poly_pred)\n",
    "poly_f1 = f1_score(y_test, poly_pred, average='weighted')\n",
    "print('Accuracy (Polynomial Kernel): ', \"%.2f\" % (poly_accuracy*100))\n",
    "print('F1 (Polynomial Kernel): ', \"%.2f\" % (poly_f1*100))"
   ]
  },
  {
   "cell_type": "code",
   "execution_count": 141,
   "metadata": {},
   "outputs": [
    {
     "name": "stdout",
     "output_type": "stream",
     "text": [
      "Accuracy (RBF Kernel):  91.60\n",
      "F1 (RBF Kernel):  91.63\n"
     ]
    }
   ],
   "source": [
    "rbf_accuracy = accuracy_score(y_test, rbf_pred)\n",
    "rbf_f1 = f1_score(y_test, rbf_pred, average='weighted')\n",
    "print('Accuracy (RBF Kernel): ', \"%.2f\" % (rbf_accuracy*100))\n",
    "print('F1 (RBF Kernel): ', \"%.2f\" % (rbf_f1*100))"
   ]
  },
  {
   "cell_type": "code",
   "execution_count": 142,
   "metadata": {},
   "outputs": [
    {
     "name": "stdout",
     "output_type": "stream",
     "text": [
      "              precision    recall  f1-score   support\n",
      "\n",
      "           0       0.91      0.86      0.89       816\n",
      "           1       0.88      0.93      0.91      1000\n",
      "           2       0.98      0.93      0.96       184\n",
      "\n",
      "    accuracy                           0.90      2000\n",
      "   macro avg       0.93      0.91      0.92      2000\n",
      "weighted avg       0.90      0.90      0.90      2000\n",
      "\n"
     ]
    }
   ],
   "source": [
    "print(classification_report(y_test, poly_pred))"
   ]
  },
  {
   "cell_type": "code",
   "execution_count": 143,
   "metadata": {},
   "outputs": [
    {
     "data": {
      "text/plain": [
       "array([[704, 110,   2],\n",
       "       [ 68, 931,   1],\n",
       "       [  1,  12, 171]], dtype=int64)"
      ]
     },
     "execution_count": 143,
     "metadata": {},
     "output_type": "execute_result"
    }
   ],
   "source": [
    "confusion_matrix(y_test, poly_pred)"
   ]
  },
  {
   "cell_type": "code",
   "execution_count": 144,
   "metadata": {},
   "outputs": [
    {
     "name": "stdout",
     "output_type": "stream",
     "text": [
      "              precision    recall  f1-score   support\n",
      "\n",
      "           0       0.87      0.95      0.91       816\n",
      "           1       0.95      0.89      0.92      1000\n",
      "           2       0.99      0.91      0.95       184\n",
      "\n",
      "    accuracy                           0.92      2000\n",
      "   macro avg       0.94      0.92      0.92      2000\n",
      "weighted avg       0.92      0.92      0.92      2000\n",
      "\n"
     ]
    }
   ],
   "source": [
    "print(classification_report(y_test, rbf_pred))"
   ]
  },
  {
   "cell_type": "code",
   "execution_count": 145,
   "metadata": {},
   "outputs": [
    {
     "data": {
      "text/plain": [
       "array([[775,  41,   0],\n",
       "       [109, 890,   1],\n",
       "       [  8,   9, 167]], dtype=int64)"
      ]
     },
     "execution_count": 145,
     "metadata": {},
     "output_type": "execute_result"
    }
   ],
   "source": [
    "confusion_matrix(y_test, rbf_pred)"
   ]
  },
  {
   "cell_type": "markdown",
   "metadata": {},
   "source": [
    "# Naive Bayes"
   ]
  },
  {
   "cell_type": "code",
   "execution_count": 151,
   "metadata": {},
   "outputs": [],
   "source": [
    "data=pd.read_csv('input/Skyserver_SQL2_27_2018 6_51_39 PM.csv')"
   ]
  },
  {
   "cell_type": "code",
   "execution_count": 152,
   "metadata": {},
   "outputs": [],
   "source": [
    "def ToTheEnd(df,column):\n",
    "    Target_data=df[column]\n",
    "    df=df.drop([column],axis=1)\n",
    "    df[column]=Target_data\n",
    "    return df\n",
    "\n",
    "data=ToTheEnd(data,'class')"
   ]
  },
  {
   "cell_type": "code",
   "execution_count": 153,
   "metadata": {},
   "outputs": [],
   "source": [
    "data['class']=data['class'].map({'STAR':0,'GALAXY':1,'QSO':2}).astype(int)"
   ]
  },
  {
   "cell_type": "code",
   "execution_count": 154,
   "metadata": {},
   "outputs": [
    {
     "data": {
      "text/plain": [
       "<AxesSubplot:>"
      ]
     },
     "execution_count": 154,
     "metadata": {},
     "output_type": "execute_result"
    },
    {
     "data": {
      "image/png": "[encoded data removed]",
      "text/plain": [
       "<Figure size 720x576 with 2 Axes>"
      ]
     },
     "metadata": {
      "needs_background": "light"
     },
     "output_type": "display_data"
    }
   ],
   "source": [
    "ax = plt.subplots(figsize=(10,8))\n",
    "sns.heatmap(data.corr(), vmax=.8 ,annot=True,square=True,fmt=\".2f\")"
   ]
  },
  {
   "cell_type": "code",
   "execution_count": 155,
   "metadata": {},
   "outputs": [],
   "source": [
    "data=data.drop(['objid','rerun','specobjid','fiberid','ra','dec','camcol','plate', 'mjd',],axis=1)"
   ]
  },
  {
   "cell_type": "code",
   "execution_count": 156,
   "metadata": {},
   "outputs": [],
   "source": [
    "#data[['redshift','class']].groupby(['class'],as_index=False).mean().sort_values(by='class',ascending=False)\n",
    "from sklearn.preprocessing import StandardScaler\n",
    "from sklearn.model_selection import train_test_split\n",
    "\n",
    "X=data.drop(['class'],axis=1)\n",
    "y=data['class']\n",
    "X=StandardScaler().fit_transform(X)"
   ]
  },
  {
   "cell_type": "code",
   "execution_count": 157,
   "metadata": {},
   "outputs": [],
   "source": [
    "X_train, X_test, y_train, y_test = train_test_split(X, y, test_size=0.20, random_state=44, shuffle =True)"
   ]
  },
  {
   "cell_type": "code",
   "execution_count": 158,
   "metadata": {},
   "outputs": [
    {
     "name": "stdout",
     "output_type": "stream",
     "text": [
      "Training time for Naive Bayes: 0.003519299999879877\n"
     ]
    }
   ],
   "source": [
    "from sklearn.datasets import load_iris\n",
    "from sklearn.model_selection import train_test_split\n",
    "from sklearn.naive_bayes import GaussianNB\n",
    "\n",
    "X_train, X_test, y_train, y_test = train_test_split(X, y, test_size=0.5, random_state=0)\n",
    "gnb = GaussianNB()\n",
    "\n",
    "start_time_train = timeit.default_timer()\n",
    "y_pred = gnb.fit(X_train, y_train).predict(X_test)\n",
    "upsampling_elapsed = timeit.default_timer() - start_time_train\n",
    "print('Training time for Naive Bayes: ' + str(upsampling_elapsed))"
   ]
  },
  {
   "cell_type": "code",
   "execution_count": 159,
   "metadata": {},
   "outputs": [
    {
     "name": "stdout",
     "output_type": "stream",
     "text": [
      "Accuracy of Naive Bayes is: 98.16 %\n"
     ]
    }
   ],
   "source": [
    "acc = accuracy_score(y_pred,y_test) \n",
    "print('Accuracy of Naive Bayes is:', round(acc*100,2), '%')"
   ]
  },
  {
   "cell_type": "code",
   "execution_count": 160,
   "metadata": {},
   "outputs": [
    {
     "name": "stdout",
     "output_type": "stream",
     "text": [
      "              precision    recall  f1-score   support\n",
      "\n",
      "           0       0.99      0.99      0.99      2044\n",
      "           1       0.98      0.99      0.98      2508\n",
      "           2       0.94      0.90      0.92       448\n",
      "\n",
      "    accuracy                           0.98      5000\n",
      "   macro avg       0.97      0.96      0.97      5000\n",
      "weighted avg       0.98      0.98      0.98      5000\n",
      "\n"
     ]
    }
   ],
   "source": [
    "print(classification_report(y_pred,y_test))"
   ]
  },
  {
   "cell_type": "code",
   "execution_count": 161,
   "metadata": {},
   "outputs": [
    {
     "data": {
      "text/plain": [
       "array([[2030,    7,    9],\n",
       "       [  14, 2475,   36],\n",
       "       [   0,   26,  403]], dtype=int64)"
      ]
     },
     "execution_count": 161,
     "metadata": {},
     "output_type": "execute_result"
    }
   ],
   "source": [
    "confusion_matrix(y_test, y_pred)"
   ]
  },
  {
   "cell_type": "markdown",
   "metadata": {},
   "source": [
    "# KNN"
   ]
  },
  {
   "cell_type": "code",
   "execution_count": 162,
   "metadata": {},
   "outputs": [],
   "source": [
    "data=pd.read_csv('input/Skyserver_SQL2_27_2018 6_51_39 PM.csv')"
   ]
  },
  {
   "cell_type": "code",
   "execution_count": 163,
   "metadata": {},
   "outputs": [],
   "source": [
    "def ToTheEnd(df,column):\n",
    "    Target_data=df[column]\n",
    "    df=df.drop([column],axis=1)\n",
    "    df[column]=Target_data\n",
    "    return df\n",
    "\n",
    "data=ToTheEnd(data,'class')"
   ]
  },
  {
   "cell_type": "code",
   "execution_count": 164,
   "metadata": {},
   "outputs": [],
   "source": [
    "data['class']=data['class'].map({'STAR':0,'GALAXY':1,'QSO':2}).astype(int)"
   ]
  },
  {
   "cell_type": "code",
   "execution_count": 165,
   "metadata": {},
   "outputs": [
    {
     "data": {
      "text/plain": [
       "<AxesSubplot:>"
      ]
     },
     "execution_count": 165,
     "metadata": {},
     "output_type": "execute_result"
    },
    {
     "data": {
      "image/png": "[encoded data removed]",
      "text/plain": [
       "<Figure size 720x576 with 2 Axes>"
      ]
     },
     "metadata": {
      "needs_background": "light"
     },
     "output_type": "display_data"
    }
   ],
   "source": [
    "ax = plt.subplots(figsize=(10,8))\n",
    "sns.heatmap(data.corr(), vmax=.8 ,annot=True,square=True,fmt=\".2f\")"
   ]
  },
  {
   "cell_type": "code",
   "execution_count": 166,
   "metadata": {},
   "outputs": [],
   "source": [
    "data=data.drop(['objid','rerun','specobjid','fiberid','ra','dec','camcol','plate', 'mjd',],axis=1)"
   ]
  },
  {
   "cell_type": "code",
   "execution_count": 167,
   "metadata": {},
   "outputs": [
    {
     "data": {
      "text/html": [
       "<div>\n",
       "<style scoped>\n",
       "    .dataframe tbody tr th:only-of-type {\n",
       "        vertical-align: middle;\n",
       "    }\n",
       "\n",
       "    .dataframe tbody tr th {\n",
       "        vertical-align: top;\n",
       "    }\n",
       "\n",
       "    .dataframe thead th {\n",
       "        text-align: right;\n",
       "    }\n",
       "</style>\n",
       "<table border=\"1\" class=\"dataframe\">\n",
       "  <thead>\n",
       "    <tr style=\"text-align: right;\">\n",
       "      <th></th>\n",
       "      <th>run</th>\n",
       "      <th>field</th>\n",
       "      <th>u</th>\n",
       "      <th>g</th>\n",
       "      <th>r</th>\n",
       "      <th>i</th>\n",
       "      <th>z</th>\n",
       "      <th>redshift</th>\n",
       "      <th>class</th>\n",
       "    </tr>\n",
       "  </thead>\n",
       "  <tbody>\n",
       "    <tr>\n",
       "      <th>0</th>\n",
       "      <td>752</td>\n",
       "      <td>267</td>\n",
       "      <td>19.47406</td>\n",
       "      <td>17.04240</td>\n",
       "      <td>15.94699</td>\n",
       "      <td>15.50342</td>\n",
       "      <td>15.22531</td>\n",
       "      <td>-0.000009</td>\n",
       "      <td>0</td>\n",
       "    </tr>\n",
       "    <tr>\n",
       "      <th>1</th>\n",
       "      <td>752</td>\n",
       "      <td>267</td>\n",
       "      <td>18.66280</td>\n",
       "      <td>17.21449</td>\n",
       "      <td>16.67637</td>\n",
       "      <td>16.48922</td>\n",
       "      <td>16.39150</td>\n",
       "      <td>-0.000055</td>\n",
       "      <td>0</td>\n",
       "    </tr>\n",
       "    <tr>\n",
       "      <th>2</th>\n",
       "      <td>752</td>\n",
       "      <td>268</td>\n",
       "      <td>19.38298</td>\n",
       "      <td>18.19169</td>\n",
       "      <td>17.47428</td>\n",
       "      <td>17.08732</td>\n",
       "      <td>16.80125</td>\n",
       "      <td>0.123111</td>\n",
       "      <td>1</td>\n",
       "    </tr>\n",
       "    <tr>\n",
       "      <th>3</th>\n",
       "      <td>752</td>\n",
       "      <td>269</td>\n",
       "      <td>17.76536</td>\n",
       "      <td>16.60272</td>\n",
       "      <td>16.16116</td>\n",
       "      <td>15.98233</td>\n",
       "      <td>15.90438</td>\n",
       "      <td>-0.000111</td>\n",
       "      <td>0</td>\n",
       "    </tr>\n",
       "    <tr>\n",
       "      <th>4</th>\n",
       "      <td>752</td>\n",
       "      <td>269</td>\n",
       "      <td>17.55025</td>\n",
       "      <td>16.26342</td>\n",
       "      <td>16.43869</td>\n",
       "      <td>16.55492</td>\n",
       "      <td>16.61326</td>\n",
       "      <td>0.000590</td>\n",
       "      <td>0</td>\n",
       "    </tr>\n",
       "    <tr>\n",
       "      <th>...</th>\n",
       "      <td>...</td>\n",
       "      <td>...</td>\n",
       "      <td>...</td>\n",
       "      <td>...</td>\n",
       "      <td>...</td>\n",
       "      <td>...</td>\n",
       "      <td>...</td>\n",
       "      <td>...</td>\n",
       "      <td>...</td>\n",
       "    </tr>\n",
       "    <tr>\n",
       "      <th>9995</th>\n",
       "      <td>1345</td>\n",
       "      <td>161</td>\n",
       "      <td>18.81777</td>\n",
       "      <td>17.47053</td>\n",
       "      <td>16.91508</td>\n",
       "      <td>16.68305</td>\n",
       "      <td>16.50570</td>\n",
       "      <td>0.027583</td>\n",
       "      <td>1</td>\n",
       "    </tr>\n",
       "    <tr>\n",
       "      <th>9996</th>\n",
       "      <td>1345</td>\n",
       "      <td>162</td>\n",
       "      <td>18.27255</td>\n",
       "      <td>17.43849</td>\n",
       "      <td>17.07692</td>\n",
       "      <td>16.71661</td>\n",
       "      <td>16.69897</td>\n",
       "      <td>0.117772</td>\n",
       "      <td>1</td>\n",
       "    </tr>\n",
       "    <tr>\n",
       "      <th>9997</th>\n",
       "      <td>1345</td>\n",
       "      <td>162</td>\n",
       "      <td>18.75818</td>\n",
       "      <td>17.77784</td>\n",
       "      <td>17.51872</td>\n",
       "      <td>17.43302</td>\n",
       "      <td>17.42048</td>\n",
       "      <td>-0.000402</td>\n",
       "      <td>0</td>\n",
       "    </tr>\n",
       "    <tr>\n",
       "      <th>9998</th>\n",
       "      <td>1345</td>\n",
       "      <td>163</td>\n",
       "      <td>18.88287</td>\n",
       "      <td>17.91068</td>\n",
       "      <td>17.53152</td>\n",
       "      <td>17.36284</td>\n",
       "      <td>17.13988</td>\n",
       "      <td>0.014019</td>\n",
       "      <td>1</td>\n",
       "    </tr>\n",
       "    <tr>\n",
       "      <th>9999</th>\n",
       "      <td>1345</td>\n",
       "      <td>163</td>\n",
       "      <td>19.27586</td>\n",
       "      <td>17.37829</td>\n",
       "      <td>16.30542</td>\n",
       "      <td>15.83548</td>\n",
       "      <td>15.50588</td>\n",
       "      <td>0.118417</td>\n",
       "      <td>1</td>\n",
       "    </tr>\n",
       "  </tbody>\n",
       "</table>\n",
       "<p>10000 rows × 9 columns</p>\n",
       "</div>"
      ],
      "text/plain": [
       "       run  field         u         g         r         i         z  redshift  \\\n",
       "0      752    267  19.47406  17.04240  15.94699  15.50342  15.22531 -0.000009   \n",
       "1      752    267  18.66280  17.21449  16.67637  16.48922  16.39150 -0.000055   \n",
       "2      752    268  19.38298  18.19169  17.47428  17.08732  16.80125  0.123111   \n",
       "3      752    269  17.76536  16.60272  16.16116  15.98233  15.90438 -0.000111   \n",
       "4      752    269  17.55025  16.26342  16.43869  16.55492  16.61326  0.000590   \n",
       "...    ...    ...       ...       ...       ...       ...       ...       ...   \n",
       "9995  1345    161  18.81777  17.47053  16.91508  16.68305  16.50570  0.027583   \n",
       "9996  1345    162  18.27255  17.43849  17.07692  16.71661  16.69897  0.117772   \n",
       "9997  1345    162  18.75818  17.77784  17.51872  17.43302  17.42048 -0.000402   \n",
       "9998  1345    163  18.88287  17.91068  17.53152  17.36284  17.13988  0.014019   \n",
       "9999  1345    163  19.27586  17.37829  16.30542  15.83548  15.50588  0.118417   \n",
       "\n",
       "      class  \n",
       "0         0  \n",
       "1         0  \n",
       "2         1  \n",
       "3         0  \n",
       "4         0  \n",
       "...     ...  \n",
       "9995      1  \n",
       "9996      1  \n",
       "9997      0  \n",
       "9998      1  \n",
       "9999      1  \n",
       "\n",
       "[10000 rows x 9 columns]"
      ]
     },
     "execution_count": 167,
     "metadata": {},
     "output_type": "execute_result"
    }
   ],
   "source": [
    "data"
   ]
  },
  {
   "cell_type": "code",
   "execution_count": 168,
   "metadata": {},
   "outputs": [],
   "source": [
    "#data[['redshift','class']].groupby(['class'],as_index=False).mean().sort_values(by='class',ascending=False)\n",
    "from sklearn.preprocessing import StandardScaler\n",
    "from sklearn.model_selection import train_test_split\n",
    "X=data.drop(['class'],axis=1)\n",
    "y=data['class']\n",
    "X=StandardScaler().fit_transform(X)"
   ]
  },
  {
   "cell_type": "code",
   "execution_count": 169,
   "metadata": {},
   "outputs": [
    {
     "data": {
      "text/plain": [
       "0       0\n",
       "1       0\n",
       "2       1\n",
       "3       0\n",
       "4       0\n",
       "       ..\n",
       "9995    1\n",
       "9996    1\n",
       "9997    0\n",
       "9998    1\n",
       "9999    1\n",
       "Name: class, Length: 10000, dtype: int32"
      ]
     },
     "execution_count": 169,
     "metadata": {},
     "output_type": "execute_result"
    }
   ],
   "source": [
    "y"
   ]
  },
  {
   "cell_type": "code",
   "execution_count": 170,
   "metadata": {},
   "outputs": [],
   "source": [
    "X_train, X_test, y_train, y_test = train_test_split(X, y, test_size=0.20, random_state=44, shuffle =True)"
   ]
  },
  {
   "cell_type": "code",
   "execution_count": 171,
   "metadata": {},
   "outputs": [
    {
     "name": "stdout",
     "output_type": "stream",
     "text": [
      "Training time for KNN: 0.017752499999915017\n"
     ]
    },
    {
     "data": {
      "text/plain": [
       "KNeighborsClassifier()"
      ]
     },
     "execution_count": 171,
     "metadata": {},
     "output_type": "execute_result"
    }
   ],
   "source": [
    "from sklearn.neighbors import KNeighborsClassifier\n",
    "neigh = KNeighborsClassifier(n_neighbors=3)\n",
    "start_time_train = timeit.default_timer()\n",
    "neigh.fit(X_train, y_train)\n",
    "upsampling_elapsed = timeit.default_timer() - start_time_train\n",
    "print('Training time for KNN: ' + str(upsampling_elapsed))\n",
    "KNeighborsClassifier()"
   ]
  },
  {
   "cell_type": "code",
   "execution_count": 172,
   "metadata": {},
   "outputs": [
    {
     "name": "stdout",
     "output_type": "stream",
     "text": [
      "Accuracy of Random Forest  91.55\n"
     ]
    }
   ],
   "source": [
    "ypred = neigh.predict(X_test)\n",
    "Test_acc_random_forest = round(neigh.score(X_test, y_test) * 100, 3)\n",
    "print(\"Accuracy of Random Forest \",Test_acc_random_forest)"
   ]
  },
  {
   "cell_type": "code",
   "execution_count": 173,
   "metadata": {},
   "outputs": [
    {
     "name": "stdout",
     "output_type": "stream",
     "text": [
      "              precision    recall  f1-score   support\n",
      "\n",
      "           0       0.88      0.93      0.90       816\n",
      "           1       0.93      0.90      0.91      1000\n",
      "           2       0.99      0.97      0.98       184\n",
      "\n",
      "    accuracy                           0.92      2000\n",
      "   macro avg       0.93      0.93      0.93      2000\n",
      "weighted avg       0.92      0.92      0.92      2000\n",
      "\n"
     ]
    }
   ],
   "source": [
    "print(classification_report(y_test, ypred))"
   ]
  },
  {
   "cell_type": "code",
   "execution_count": 174,
   "metadata": {},
   "outputs": [
    {
     "data": {
      "text/plain": [
       "array([[757,  58,   1],\n",
       "       [103, 896,   1],\n",
       "       [  1,   5, 178]], dtype=int64)"
      ]
     },
     "execution_count": 174,
     "metadata": {},
     "output_type": "execute_result"
    }
   ],
   "source": [
    "confusion_matrix(y_test, ypred)"
   ]
  },
  {
   "cell_type": "markdown",
   "metadata": {},
   "source": [
    "# Random Forest"
   ]
  },
  {
   "cell_type": "code",
   "execution_count": 425,
   "metadata": {},
   "outputs": [],
   "source": [
    "data=pd.read_csv('input/SDSS_final.csv')"
   ]
  },
  {
   "cell_type": "code",
   "execution_count": 426,
   "metadata": {},
   "outputs": [],
   "source": [
    "def ToTheEnd(df,column):\n",
    "    Target_data=df[column]\n",
    "    df=df.drop([column],axis=1)\n",
    "    df[column]=Target_data\n",
    "    return df\n",
    "\n",
    "data=ToTheEnd(data,'class')"
   ]
  },
  {
   "cell_type": "code",
   "execution_count": 427,
   "metadata": {},
   "outputs": [
    {
     "data": {
      "text/html": [
       "<div>\n",
       "<style scoped>\n",
       "    .dataframe tbody tr th:only-of-type {\n",
       "        vertical-align: middle;\n",
       "    }\n",
       "\n",
       "    .dataframe tbody tr th {\n",
       "        vertical-align: top;\n",
       "    }\n",
       "\n",
       "    .dataframe thead th {\n",
       "        text-align: right;\n",
       "    }\n",
       "</style>\n",
       "<table border=\"1\" class=\"dataframe\">\n",
       "  <thead>\n",
       "    <tr style=\"text-align: right;\">\n",
       "      <th></th>\n",
       "      <th>objid</th>\n",
       "      <th>ra</th>\n",
       "      <th>dec</th>\n",
       "      <th>u</th>\n",
       "      <th>g</th>\n",
       "      <th>r</th>\n",
       "      <th>i</th>\n",
       "      <th>z</th>\n",
       "      <th>run</th>\n",
       "      <th>rerun</th>\n",
       "      <th>camcol</th>\n",
       "      <th>field</th>\n",
       "      <th>specobjid</th>\n",
       "      <th>redshift</th>\n",
       "      <th>plate</th>\n",
       "      <th>mjd</th>\n",
       "      <th>fiberid</th>\n",
       "      <th>class</th>\n",
       "    </tr>\n",
       "  </thead>\n",
       "  <tbody>\n",
       "    <tr>\n",
       "      <th>0</th>\n",
       "      <td>1.240000e+18</td>\n",
       "      <td>209.439050</td>\n",
       "      <td>-0.293126</td>\n",
       "      <td>21.40675</td>\n",
       "      <td>20.88552</td>\n",
       "      <td>20.89071</td>\n",
       "      <td>20.91209</td>\n",
       "      <td>20.72144</td>\n",
       "      <td>752</td>\n",
       "      <td>301</td>\n",
       "      <td>3</td>\n",
       "      <td>440</td>\n",
       "      <td>4.550000e+18</td>\n",
       "      <td>2.399763</td>\n",
       "      <td>4037</td>\n",
       "      <td>55631</td>\n",
       "      <td>474</td>\n",
       "      <td>QSO</td>\n",
       "    </tr>\n",
       "    <tr>\n",
       "      <th>1</th>\n",
       "      <td>1.240000e+18</td>\n",
       "      <td>121.877577</td>\n",
       "      <td>45.077250</td>\n",
       "      <td>25.92152</td>\n",
       "      <td>22.26305</td>\n",
       "      <td>20.55681</td>\n",
       "      <td>19.71160</td>\n",
       "      <td>19.16875</td>\n",
       "      <td>1331</td>\n",
       "      <td>301</td>\n",
       "      <td>5</td>\n",
       "      <td>126</td>\n",
       "      <td>7.180000e+18</td>\n",
       "      <td>0.456324</td>\n",
       "      <td>6378</td>\n",
       "      <td>56330</td>\n",
       "      <td>717</td>\n",
       "      <td>GALAXY</td>\n",
       "    </tr>\n",
       "    <tr>\n",
       "      <th>2</th>\n",
       "      <td>1.240000e+18</td>\n",
       "      <td>124.756270</td>\n",
       "      <td>46.143024</td>\n",
       "      <td>22.10301</td>\n",
       "      <td>20.44919</td>\n",
       "      <td>18.64295</td>\n",
       "      <td>17.98695</td>\n",
       "      <td>17.58418</td>\n",
       "      <td>1331</td>\n",
       "      <td>301</td>\n",
       "      <td>3</td>\n",
       "      <td>140</td>\n",
       "      <td>4.970000e+17</td>\n",
       "      <td>0.354595</td>\n",
       "      <td>441</td>\n",
       "      <td>51868</td>\n",
       "      <td>115</td>\n",
       "      <td>GALAXY</td>\n",
       "    </tr>\n",
       "    <tr>\n",
       "      <th>3</th>\n",
       "      <td>1.240000e+18</td>\n",
       "      <td>183.849461</td>\n",
       "      <td>0.143010</td>\n",
       "      <td>22.85248</td>\n",
       "      <td>22.09973</td>\n",
       "      <td>20.28476</td>\n",
       "      <td>19.41890</td>\n",
       "      <td>19.06876</td>\n",
       "      <td>752</td>\n",
       "      <td>301</td>\n",
       "      <td>4</td>\n",
       "      <td>269</td>\n",
       "      <td>4.330000e+18</td>\n",
       "      <td>0.480464</td>\n",
       "      <td>3845</td>\n",
       "      <td>55323</td>\n",
       "      <td>17</td>\n",
       "      <td>GALAXY</td>\n",
       "    </tr>\n",
       "    <tr>\n",
       "      <th>4</th>\n",
       "      <td>1.240000e+18</td>\n",
       "      <td>189.810817</td>\n",
       "      <td>-2.207314</td>\n",
       "      <td>20.58849</td>\n",
       "      <td>20.14927</td>\n",
       "      <td>20.02577</td>\n",
       "      <td>20.14147</td>\n",
       "      <td>19.83024</td>\n",
       "      <td>1140</td>\n",
       "      <td>301</td>\n",
       "      <td>4</td>\n",
       "      <td>246</td>\n",
       "      <td>4.250000e+18</td>\n",
       "      <td>0.748259</td>\n",
       "      <td>3778</td>\n",
       "      <td>55213</td>\n",
       "      <td>110</td>\n",
       "      <td>QSO</td>\n",
       "    </tr>\n",
       "    <tr>\n",
       "      <th>...</th>\n",
       "      <td>...</td>\n",
       "      <td>...</td>\n",
       "      <td>...</td>\n",
       "      <td>...</td>\n",
       "      <td>...</td>\n",
       "      <td>...</td>\n",
       "      <td>...</td>\n",
       "      <td>...</td>\n",
       "      <td>...</td>\n",
       "      <td>...</td>\n",
       "      <td>...</td>\n",
       "      <td>...</td>\n",
       "      <td>...</td>\n",
       "      <td>...</td>\n",
       "      <td>...</td>\n",
       "      <td>...</td>\n",
       "      <td>...</td>\n",
       "      <td>...</td>\n",
       "    </tr>\n",
       "    <tr>\n",
       "      <th>29995</th>\n",
       "      <td>1.240000e+18</td>\n",
       "      <td>151.201083</td>\n",
       "      <td>0.669279</td>\n",
       "      <td>18.81863</td>\n",
       "      <td>18.52837</td>\n",
       "      <td>18.08999</td>\n",
       "      <td>17.74230</td>\n",
       "      <td>17.65442</td>\n",
       "      <td>756</td>\n",
       "      <td>301</td>\n",
       "      <td>5</td>\n",
       "      <td>236</td>\n",
       "      <td>3.030000e+17</td>\n",
       "      <td>0.214063</td>\n",
       "      <td>269</td>\n",
       "      <td>51910</td>\n",
       "      <td>536</td>\n",
       "      <td>QSO</td>\n",
       "    </tr>\n",
       "    <tr>\n",
       "      <th>29996</th>\n",
       "      <td>1.240000e+18</td>\n",
       "      <td>188.829694</td>\n",
       "      <td>-1.649740</td>\n",
       "      <td>22.98777</td>\n",
       "      <td>21.13206</td>\n",
       "      <td>21.01412</td>\n",
       "      <td>21.17362</td>\n",
       "      <td>21.28052</td>\n",
       "      <td>1231</td>\n",
       "      <td>301</td>\n",
       "      <td>6</td>\n",
       "      <td>131</td>\n",
       "      <td>4.250000e+18</td>\n",
       "      <td>0.000145</td>\n",
       "      <td>3778</td>\n",
       "      <td>55213</td>\n",
       "      <td>695</td>\n",
       "      <td>STAR</td>\n",
       "    </tr>\n",
       "    <tr>\n",
       "      <th>29997</th>\n",
       "      <td>1.240000e+18</td>\n",
       "      <td>217.679029</td>\n",
       "      <td>-0.721670</td>\n",
       "      <td>24.81813</td>\n",
       "      <td>22.65607</td>\n",
       "      <td>21.01129</td>\n",
       "      <td>19.97748</td>\n",
       "      <td>19.63805</td>\n",
       "      <td>752</td>\n",
       "      <td>301</td>\n",
       "      <td>2</td>\n",
       "      <td>495</td>\n",
       "      <td>4.540000e+18</td>\n",
       "      <td>0.557969</td>\n",
       "      <td>4028</td>\n",
       "      <td>55621</td>\n",
       "      <td>3</td>\n",
       "      <td>GALAXY</td>\n",
       "    </tr>\n",
       "    <tr>\n",
       "      <th>29998</th>\n",
       "      <td>1.240000e+18</td>\n",
       "      <td>160.476541</td>\n",
       "      <td>-0.032671</td>\n",
       "      <td>22.54886</td>\n",
       "      <td>22.03707</td>\n",
       "      <td>20.39451</td>\n",
       "      <td>19.32129</td>\n",
       "      <td>18.54318</td>\n",
       "      <td>756</td>\n",
       "      <td>301</td>\n",
       "      <td>3</td>\n",
       "      <td>298</td>\n",
       "      <td>4.320000e+18</td>\n",
       "      <td>0.550828</td>\n",
       "      <td>3834</td>\n",
       "      <td>56014</td>\n",
       "      <td>459</td>\n",
       "      <td>GALAXY</td>\n",
       "    </tr>\n",
       "    <tr>\n",
       "      <th>29999</th>\n",
       "      <td>1.240000e+18</td>\n",
       "      <td>55.448055</td>\n",
       "      <td>-5.184580</td>\n",
       "      <td>20.31474</td>\n",
       "      <td>19.48810</td>\n",
       "      <td>18.46058</td>\n",
       "      <td>18.01105</td>\n",
       "      <td>17.62169</td>\n",
       "      <td>1045</td>\n",
       "      <td>301</td>\n",
       "      <td>6</td>\n",
       "      <td>144</td>\n",
       "      <td>1.840000e+18</td>\n",
       "      <td>0.293565</td>\n",
       "      <td>1631</td>\n",
       "      <td>54469</td>\n",
       "      <td>448</td>\n",
       "      <td>GALAXY</td>\n",
       "    </tr>\n",
       "  </tbody>\n",
       "</table>\n",
       "<p>30000 rows × 18 columns</p>\n",
       "</div>"
      ],
      "text/plain": [
       "              objid          ra        dec         u         g         r  \\\n",
       "0      1.240000e+18  209.439050  -0.293126  21.40675  20.88552  20.89071   \n",
       "1      1.240000e+18  121.877577  45.077250  25.92152  22.26305  20.55681   \n",
       "2      1.240000e+18  124.756270  46.143024  22.10301  20.44919  18.64295   \n",
       "3      1.240000e+18  183.849461   0.143010  22.85248  22.09973  20.28476   \n",
       "4      1.240000e+18  189.810817  -2.207314  20.58849  20.14927  20.02577   \n",
       "...             ...         ...        ...       ...       ...       ...   \n",
       "29995  1.240000e+18  151.201083   0.669279  18.81863  18.52837  18.08999   \n",
       "29996  1.240000e+18  188.829694  -1.649740  22.98777  21.13206  21.01412   \n",
       "29997  1.240000e+18  217.679029  -0.721670  24.81813  22.65607  21.01129   \n",
       "29998  1.240000e+18  160.476541  -0.032671  22.54886  22.03707  20.39451   \n",
       "29999  1.240000e+18   55.448055  -5.184580  20.31474  19.48810  18.46058   \n",
       "\n",
       "              i         z   run  rerun  camcol  field     specobjid  redshift  \\\n",
       "0      20.91209  20.72144   752    301       3    440  4.550000e+18  2.399763   \n",
       "1      19.71160  19.16875  1331    301       5    126  7.180000e+18  0.456324   \n",
       "2      17.98695  17.58418  1331    301       3    140  4.970000e+17  0.354595   \n",
       "3      19.41890  19.06876   752    301       4    269  4.330000e+18  0.480464   \n",
       "4      20.14147  19.83024  1140    301       4    246  4.250000e+18  0.748259   \n",
       "...         ...       ...   ...    ...     ...    ...           ...       ...   \n",
       "29995  17.74230  17.65442   756    301       5    236  3.030000e+17  0.214063   \n",
       "29996  21.17362  21.28052  1231    301       6    131  4.250000e+18  0.000145   \n",
       "29997  19.97748  19.63805   752    301       2    495  4.540000e+18  0.557969   \n",
       "29998  19.32129  18.54318   756    301       3    298  4.320000e+18  0.550828   \n",
       "29999  18.01105  17.62169  1045    301       6    144  1.840000e+18  0.293565   \n",
       "\n",
       "       plate    mjd  fiberid   class  \n",
       "0       4037  55631      474     QSO  \n",
       "1       6378  56330      717  GALAXY  \n",
       "2        441  51868      115  GALAXY  \n",
       "3       3845  55323       17  GALAXY  \n",
       "4       3778  55213      110     QSO  \n",
       "...      ...    ...      ...     ...  \n",
       "29995    269  51910      536     QSO  \n",
       "29996   3778  55213      695    STAR  \n",
       "29997   4028  55621        3  GALAXY  \n",
       "29998   3834  56014      459  GALAXY  \n",
       "29999   1631  54469      448  GALAXY  \n",
       "\n",
       "[30000 rows x 18 columns]"
      ]
     },
     "execution_count": 427,
     "metadata": {},
     "output_type": "execute_result"
    }
   ],
   "source": [
    "data"
   ]
  },
  {
   "cell_type": "code",
   "execution_count": 428,
   "metadata": {},
   "outputs": [],
   "source": [
    "data['class']=data['class'].map({'STAR':0,'GALAXY':1,'QSO':2}).astype(int)"
   ]
  },
  {
   "cell_type": "code",
   "execution_count": 429,
   "metadata": {},
   "outputs": [
    {
     "data": {
      "text/plain": [
       "<AxesSubplot:>"
      ]
     },
     "execution_count": 429,
     "metadata": {},
     "output_type": "execute_result"
    },
    {
     "data": {
      "image/png": "[encoded data removed]",
      "text/plain": [
       "<Figure size 720x576 with 2 Axes>"
      ]
     },
     "metadata": {
      "needs_background": "light"
     },
     "output_type": "display_data"
    }
   ],
   "source": [
    "ax = plt.subplots(figsize=(10,8))\n",
    "sns.heatmap(data.corr(), vmax=.8 ,annot=True,square=True,fmt=\".2f\")"
   ]
  },
  {
   "cell_type": "code",
   "execution_count": 430,
   "metadata": {},
   "outputs": [],
   "source": [
    "data=data.drop(['objid','rerun','specobjid','fiberid','ra','dec','camcol','plate', 'mjd','run','field'],axis=1)"
   ]
  },
  {
   "cell_type": "code",
   "execution_count": 431,
   "metadata": {},
   "outputs": [
    {
     "data": {
      "text/html": [
       "<div>\n",
       "<style scoped>\n",
       "    .dataframe tbody tr th:only-of-type {\n",
       "        vertical-align: middle;\n",
       "    }\n",
       "\n",
       "    .dataframe tbody tr th {\n",
       "        vertical-align: top;\n",
       "    }\n",
       "\n",
       "    .dataframe thead th {\n",
       "        text-align: right;\n",
       "    }\n",
       "</style>\n",
       "<table border=\"1\" class=\"dataframe\">\n",
       "  <thead>\n",
       "    <tr style=\"text-align: right;\">\n",
       "      <th></th>\n",
       "      <th>u</th>\n",
       "      <th>g</th>\n",
       "      <th>r</th>\n",
       "      <th>i</th>\n",
       "      <th>z</th>\n",
       "      <th>redshift</th>\n",
       "      <th>class</th>\n",
       "    </tr>\n",
       "  </thead>\n",
       "  <tbody>\n",
       "    <tr>\n",
       "      <th>0</th>\n",
       "      <td>21.40675</td>\n",
       "      <td>20.88552</td>\n",
       "      <td>20.89071</td>\n",
       "      <td>20.91209</td>\n",
       "      <td>20.72144</td>\n",
       "      <td>2.399763</td>\n",
       "      <td>2</td>\n",
       "    </tr>\n",
       "    <tr>\n",
       "      <th>1</th>\n",
       "      <td>25.92152</td>\n",
       "      <td>22.26305</td>\n",
       "      <td>20.55681</td>\n",
       "      <td>19.71160</td>\n",
       "      <td>19.16875</td>\n",
       "      <td>0.456324</td>\n",
       "      <td>1</td>\n",
       "    </tr>\n",
       "    <tr>\n",
       "      <th>2</th>\n",
       "      <td>22.10301</td>\n",
       "      <td>20.44919</td>\n",
       "      <td>18.64295</td>\n",
       "      <td>17.98695</td>\n",
       "      <td>17.58418</td>\n",
       "      <td>0.354595</td>\n",
       "      <td>1</td>\n",
       "    </tr>\n",
       "    <tr>\n",
       "      <th>3</th>\n",
       "      <td>22.85248</td>\n",
       "      <td>22.09973</td>\n",
       "      <td>20.28476</td>\n",
       "      <td>19.41890</td>\n",
       "      <td>19.06876</td>\n",
       "      <td>0.480464</td>\n",
       "      <td>1</td>\n",
       "    </tr>\n",
       "    <tr>\n",
       "      <th>4</th>\n",
       "      <td>20.58849</td>\n",
       "      <td>20.14927</td>\n",
       "      <td>20.02577</td>\n",
       "      <td>20.14147</td>\n",
       "      <td>19.83024</td>\n",
       "      <td>0.748259</td>\n",
       "      <td>2</td>\n",
       "    </tr>\n",
       "    <tr>\n",
       "      <th>...</th>\n",
       "      <td>...</td>\n",
       "      <td>...</td>\n",
       "      <td>...</td>\n",
       "      <td>...</td>\n",
       "      <td>...</td>\n",
       "      <td>...</td>\n",
       "      <td>...</td>\n",
       "    </tr>\n",
       "    <tr>\n",
       "      <th>29995</th>\n",
       "      <td>18.81863</td>\n",
       "      <td>18.52837</td>\n",
       "      <td>18.08999</td>\n",
       "      <td>17.74230</td>\n",
       "      <td>17.65442</td>\n",
       "      <td>0.214063</td>\n",
       "      <td>2</td>\n",
       "    </tr>\n",
       "    <tr>\n",
       "      <th>29996</th>\n",
       "      <td>22.98777</td>\n",
       "      <td>21.13206</td>\n",
       "      <td>21.01412</td>\n",
       "      <td>21.17362</td>\n",
       "      <td>21.28052</td>\n",
       "      <td>0.000145</td>\n",
       "      <td>0</td>\n",
       "    </tr>\n",
       "    <tr>\n",
       "      <th>29997</th>\n",
       "      <td>24.81813</td>\n",
       "      <td>22.65607</td>\n",
       "      <td>21.01129</td>\n",
       "      <td>19.97748</td>\n",
       "      <td>19.63805</td>\n",
       "      <td>0.557969</td>\n",
       "      <td>1</td>\n",
       "    </tr>\n",
       "    <tr>\n",
       "      <th>29998</th>\n",
       "      <td>22.54886</td>\n",
       "      <td>22.03707</td>\n",
       "      <td>20.39451</td>\n",
       "      <td>19.32129</td>\n",
       "      <td>18.54318</td>\n",
       "      <td>0.550828</td>\n",
       "      <td>1</td>\n",
       "    </tr>\n",
       "    <tr>\n",
       "      <th>29999</th>\n",
       "      <td>20.31474</td>\n",
       "      <td>19.48810</td>\n",
       "      <td>18.46058</td>\n",
       "      <td>18.01105</td>\n",
       "      <td>17.62169</td>\n",
       "      <td>0.293565</td>\n",
       "      <td>1</td>\n",
       "    </tr>\n",
       "  </tbody>\n",
       "</table>\n",
       "<p>30000 rows × 7 columns</p>\n",
       "</div>"
      ],
      "text/plain": [
       "              u         g         r         i         z  redshift  class\n",
       "0      21.40675  20.88552  20.89071  20.91209  20.72144  2.399763      2\n",
       "1      25.92152  22.26305  20.55681  19.71160  19.16875  0.456324      1\n",
       "2      22.10301  20.44919  18.64295  17.98695  17.58418  0.354595      1\n",
       "3      22.85248  22.09973  20.28476  19.41890  19.06876  0.480464      1\n",
       "4      20.58849  20.14927  20.02577  20.14147  19.83024  0.748259      2\n",
       "...         ...       ...       ...       ...       ...       ...    ...\n",
       "29995  18.81863  18.52837  18.08999  17.74230  17.65442  0.214063      2\n",
       "29996  22.98777  21.13206  21.01412  21.17362  21.28052  0.000145      0\n",
       "29997  24.81813  22.65607  21.01129  19.97748  19.63805  0.557969      1\n",
       "29998  22.54886  22.03707  20.39451  19.32129  18.54318  0.550828      1\n",
       "29999  20.31474  19.48810  18.46058  18.01105  17.62169  0.293565      1\n",
       "\n",
       "[30000 rows x 7 columns]"
      ]
     },
     "execution_count": 431,
     "metadata": {},
     "output_type": "execute_result"
    }
   ],
   "source": [
    "data"
   ]
  },
  {
   "cell_type": "code",
   "execution_count": 342,
   "metadata": {},
   "outputs": [],
   "source": [
    "#data[['redshift','class']].groupby(['class'],as_index=False).mean().sort_values(by='class',ascending=False)\n",
    "from sklearn.preprocessing import StandardScaler\n",
    "from sklearn.model_selection import train_test_split\n",
    "X=data.drop(['class'],axis=1)\n",
    "y=data['class']\n",
    "X=StandardScaler().fit_transform(X)"
   ]
  },
  {
   "cell_type": "code",
   "execution_count": 343,
   "metadata": {},
   "outputs": [
    {
     "data": {
      "text/plain": [
       "0        2\n",
       "1        1\n",
       "2        1\n",
       "3        1\n",
       "4        2\n",
       "        ..\n",
       "29995    2\n",
       "29996    0\n",
       "29997    1\n",
       "29998    1\n",
       "29999    1\n",
       "Name: class, Length: 30000, dtype: int32"
      ]
     },
     "execution_count": 343,
     "metadata": {},
     "output_type": "execute_result"
    }
   ],
   "source": [
    "y"
   ]
  },
  {
   "cell_type": "code",
   "execution_count": 344,
   "metadata": {},
   "outputs": [],
   "source": [
    "X_train, X_test, y_train, y_test = train_test_split(X, y, test_size=0.20, random_state=44, shuffle =True)"
   ]
  },
  {
   "cell_type": "code",
   "execution_count": 345,
   "metadata": {},
   "outputs": [
    {
     "name": "stdout",
     "output_type": "stream",
     "text": [
      "Training time for RBF: 8.867020199999388\n"
     ]
    }
   ],
   "source": [
    "from sklearn.ensemble import RandomForestClassifier\n",
    "from sklearn.metrics import confusion_matrix\n",
    "random_forest = RandomForestClassifier(n_estimators=200)\n",
    "\n",
    "start_time_train = timeit.default_timer()\n",
    "random_forest.fit(X_train, y_train)\n",
    "upsampling_elapsed = timeit.default_timer() - start_time_train\n",
    "print('Training time for RBF: ' + str(upsampling_elapsed))"
   ]
  },
  {
   "cell_type": "code",
   "execution_count": 346,
   "metadata": {
    "tags": []
   },
   "outputs": [
    {
     "name": "stdout",
     "output_type": "stream",
     "text": [
      "Accuracy of Random Forest  97.667\n"
     ]
    }
   ],
   "source": [
    "y_pred = random_forest.predict(X_test)\n",
    "\n",
    "Test_acc_random_forest = round(random_forest.score(X_test, y_test) * 100, 3)\n",
    "print(\"Accuracy of Random Forest \",Test_acc_random_forest)"
   ]
  },
  {
   "cell_type": "code",
   "execution_count": 347,
   "metadata": {},
   "outputs": [
    {
     "name": "stdout",
     "output_type": "stream",
     "text": [
      "              precision    recall  f1-score   support\n",
      "\n",
      "           0       0.99      1.00      1.00      2020\n",
      "           1       0.96      0.98      0.97      2019\n",
      "           2       0.98      0.95      0.97      1961\n",
      "\n",
      "    accuracy                           0.98      6000\n",
      "   macro avg       0.98      0.98      0.98      6000\n",
      "weighted avg       0.98      0.98      0.98      6000\n",
      "\n"
     ]
    }
   ],
   "source": [
    "print(classification_report(y_test, y_pred))"
   ]
  },
  {
   "cell_type": "code",
   "execution_count": 348,
   "metadata": {},
   "outputs": [
    {
     "data": {
      "text/plain": [
       "array([[2020,    0,    0],\n",
       "       [  10, 1973,   36],\n",
       "       [   3,   91, 1867]], dtype=int64)"
      ]
     },
     "execution_count": 348,
     "metadata": {},
     "output_type": "execute_result"
    }
   ],
   "source": [
    "confusion_matrix(y_test, y_pred)"
   ]
  },
  {
   "cell_type": "code",
   "execution_count": 349,
   "metadata": {},
   "outputs": [
    {
     "data": {
      "text/plain": [
       "['./random_forest_test1.joblib']"
      ]
     },
     "execution_count": 349,
     "metadata": {},
     "output_type": "execute_result"
    }
   ],
   "source": [
    "import joblib\n",
    "# save the model to disk\n",
    "joblib.dump(random_forest, \"./random_forest_test1.joblib\")"
   ]
  },
  {
   "cell_type": "markdown",
   "metadata": {},
   "source": [
    "\n",
    "# Live Testing"
   ]
  },
  {
   "cell_type": "markdown",
   "metadata": {},
   "source": [
    "0. https://skyserver.sdss.org/dr14/en/tools/crossid/crossid.aspx#help\n",
    "1. Download panna udan Table name column ai remove seiya vendum\n",
    "2. Piragu, z endra column ai redshift endru maatra vendum\n"
   ]
  },
  {
   "cell_type": "code",
   "execution_count": 407,
   "metadata": {},
   "outputs": [],
   "source": [
    "from PIL import Image\n",
    "import requests\n",
    "\n",
    "def print_image(df,index):\n",
    "    radeg, decdeg = df['ra'][index],df['dec'][index]\n",
    "    scale = 0.015\n",
    "    height, width = 512, 512\n",
    "\n",
    "    str1 = 'http://skyserver.sdss.org/dr14/SkyServerWS/ImgCutout/getjpeg?TaskName=Skyserver.Chart.Image'\n",
    "    str2 = '&ra={:f}&dec={:f}&scale=0.015&width=1024&height=1024&opt=&query='.format(radeg,decdeg)\n",
    "    url = str1 + str2\n",
    "    print(url)\n",
    "\n",
    "    try:\n",
    "        im = Image.open(requests.get(url, stream=True).raw)\n",
    "    except:\n",
    "        pass\n",
    "        print(\"Error\")\n",
    "    \n",
    "    return im\n"
   ]
  },
  {
   "cell_type": "code",
   "execution_count": 432,
   "metadata": {},
   "outputs": [
    {
     "data": {
      "text/html": [
       "<div>\n",
       "<style scoped>\n",
       "    .dataframe tbody tr th:only-of-type {\n",
       "        vertical-align: middle;\n",
       "    }\n",
       "\n",
       "    .dataframe tbody tr th {\n",
       "        vertical-align: top;\n",
       "    }\n",
       "\n",
       "    .dataframe thead th {\n",
       "        text-align: right;\n",
       "    }\n",
       "</style>\n",
       "<table border=\"1\" class=\"dataframe\">\n",
       "  <thead>\n",
       "    <tr style=\"text-align: right;\">\n",
       "      <th></th>\n",
       "      <th>objID</th>\n",
       "      <th>ra</th>\n",
       "      <th>dec</th>\n",
       "      <th>run</th>\n",
       "      <th>rerun</th>\n",
       "      <th>camcol</th>\n",
       "      <th>field</th>\n",
       "      <th>class</th>\n",
       "      <th>u</th>\n",
       "      <th>g</th>\n",
       "      <th>r</th>\n",
       "      <th>i</th>\n",
       "      <th>z</th>\n",
       "      <th>specObjID</th>\n",
       "      <th>plate</th>\n",
       "      <th>mjd</th>\n",
       "      <th>fiberID</th>\n",
       "      <th>redshift</th>\n",
       "    </tr>\n",
       "  </thead>\n",
       "  <tbody>\n",
       "    <tr>\n",
       "      <th>0</th>\n",
       "      <td>1.240000e+18</td>\n",
       "      <td>15.502002</td>\n",
       "      <td>0.515352</td>\n",
       "      <td>4263</td>\n",
       "      <td>301</td>\n",
       "      <td>5</td>\n",
       "      <td>219</td>\n",
       "      <td>STAR</td>\n",
       "      <td>21.99938</td>\n",
       "      <td>19.73039</td>\n",
       "      <td>18.67928</td>\n",
       "      <td>18.26405</td>\n",
       "      <td>18.00196</td>\n",
       "      <td>1.690000e+18</td>\n",
       "      <td>1498</td>\n",
       "      <td>52914</td>\n",
       "      <td>388</td>\n",
       "      <td>0.000114</td>\n",
       "    </tr>\n",
       "    <tr>\n",
       "      <th>1</th>\n",
       "      <td>1.240000e+18</td>\n",
       "      <td>15.493380</td>\n",
       "      <td>0.513567</td>\n",
       "      <td>4263</td>\n",
       "      <td>301</td>\n",
       "      <td>5</td>\n",
       "      <td>219</td>\n",
       "      <td>GALAXY</td>\n",
       "      <td>23.46245</td>\n",
       "      <td>21.21311</td>\n",
       "      <td>19.44700</td>\n",
       "      <td>18.82201</td>\n",
       "      <td>18.37411</td>\n",
       "      <td>7.800000e+17</td>\n",
       "      <td>693</td>\n",
       "      <td>52254</td>\n",
       "      <td>503</td>\n",
       "      <td>0.373543</td>\n",
       "    </tr>\n",
       "    <tr>\n",
       "      <th>2</th>\n",
       "      <td>1.240000e+18</td>\n",
       "      <td>15.493380</td>\n",
       "      <td>0.513567</td>\n",
       "      <td>4263</td>\n",
       "      <td>301</td>\n",
       "      <td>5</td>\n",
       "      <td>219</td>\n",
       "      <td>GALAXY</td>\n",
       "      <td>23.46245</td>\n",
       "      <td>21.21311</td>\n",
       "      <td>19.44700</td>\n",
       "      <td>18.82201</td>\n",
       "      <td>18.37411</td>\n",
       "      <td>4.760000e+18</td>\n",
       "      <td>4225</td>\n",
       "      <td>55455</td>\n",
       "      <td>808</td>\n",
       "      <td>0.373478</td>\n",
       "    </tr>\n",
       "    <tr>\n",
       "      <th>3</th>\n",
       "      <td>1.240000e+18</td>\n",
       "      <td>15.503910</td>\n",
       "      <td>0.512176</td>\n",
       "      <td>4263</td>\n",
       "      <td>301</td>\n",
       "      <td>5</td>\n",
       "      <td>219</td>\n",
       "      <td>GALAXY</td>\n",
       "      <td>19.15817</td>\n",
       "      <td>18.05311</td>\n",
       "      <td>17.63875</td>\n",
       "      <td>17.40735</td>\n",
       "      <td>17.27723</td>\n",
       "      <td>4.460000e+17</td>\n",
       "      <td>396</td>\n",
       "      <td>51816</td>\n",
       "      <td>435</td>\n",
       "      <td>0.018285</td>\n",
       "    </tr>\n",
       "    <tr>\n",
       "      <th>4</th>\n",
       "      <td>1.240000e+18</td>\n",
       "      <td>15.491410</td>\n",
       "      <td>0.463359</td>\n",
       "      <td>4263</td>\n",
       "      <td>301</td>\n",
       "      <td>5</td>\n",
       "      <td>219</td>\n",
       "      <td>GALAXY</td>\n",
       "      <td>22.73320</td>\n",
       "      <td>20.98437</td>\n",
       "      <td>19.29221</td>\n",
       "      <td>18.63999</td>\n",
       "      <td>18.21168</td>\n",
       "      <td>7.800000e+17</td>\n",
       "      <td>693</td>\n",
       "      <td>52254</td>\n",
       "      <td>489</td>\n",
       "      <td>0.390870</td>\n",
       "    </tr>\n",
       "  </tbody>\n",
       "</table>\n",
       "</div>"
      ],
      "text/plain": [
       "          objID         ra       dec   run  rerun  camcol  field   class  \\\n",
       "0  1.240000e+18  15.502002  0.515352  4263    301       5    219    STAR   \n",
       "1  1.240000e+18  15.493380  0.513567  4263    301       5    219  GALAXY   \n",
       "2  1.240000e+18  15.493380  0.513567  4263    301       5    219  GALAXY   \n",
       "3  1.240000e+18  15.503910  0.512176  4263    301       5    219  GALAXY   \n",
       "4  1.240000e+18  15.491410  0.463359  4263    301       5    219  GALAXY   \n",
       "\n",
       "          u         g         r         i         z     specObjID  plate  \\\n",
       "0  21.99938  19.73039  18.67928  18.26405  18.00196  1.690000e+18   1498   \n",
       "1  23.46245  21.21311  19.44700  18.82201  18.37411  7.800000e+17    693   \n",
       "2  23.46245  21.21311  19.44700  18.82201  18.37411  4.760000e+18   4225   \n",
       "3  19.15817  18.05311  17.63875  17.40735  17.27723  4.460000e+17    396   \n",
       "4  22.73320  20.98437  19.29221  18.63999  18.21168  7.800000e+17    693   \n",
       "\n",
       "     mjd  fiberID  redshift  \n",
       "0  52914      388  0.000114  \n",
       "1  52254      503  0.373543  \n",
       "2  55455      808  0.373478  \n",
       "3  51816      435  0.018285  \n",
       "4  52254      489  0.390870  "
      ]
     },
     "execution_count": 432,
     "metadata": {},
     "output_type": "execute_result"
    }
   ],
   "source": [
    "data=pd.read_csv('Test/new_sdss.csv')\n",
    "data.head()"
   ]
  },
  {
   "cell_type": "code",
   "execution_count": 433,
   "metadata": {},
   "outputs": [],
   "source": [
    "def ToTheEnd(df,column):\n",
    "    Target_data=df[column]\n",
    "    df=df.drop([column],axis=1)\n",
    "    df[column]=Target_data\n",
    "    return df\n",
    "\n",
    "data=ToTheEnd(data,'class')"
   ]
  },
  {
   "cell_type": "code",
   "execution_count": 434,
   "metadata": {},
   "outputs": [],
   "source": [
    "data['class']=data['class'].map({'STAR':0,'GALAXY':1,'QSO':2}).astype(int)\n",
    "objid = data['objID']"
   ]
  },
  {
   "cell_type": "code",
   "execution_count": 435,
   "metadata": {},
   "outputs": [
    {
     "data": {
      "text/plain": [
       "Index(['objID', 'ra', 'dec', 'run', 'rerun', 'camcol', 'field', 'u', 'g', 'r',\n",
       "       'i', 'z', 'specObjID', 'plate', 'mjd', 'fiberID', 'redshift', 'class'],\n",
       "      dtype='object')"
      ]
     },
     "execution_count": 435,
     "metadata": {},
     "output_type": "execute_result"
    }
   ],
   "source": [
    "data.columns"
   ]
  },
  {
   "cell_type": "code",
   "execution_count": 436,
   "metadata": {},
   "outputs": [],
   "source": [
    "data=data.drop(['objID', 'ra', 'dec', 'run', 'rerun', 'camcol', 'field','specObjID',\n",
    "       'plate', 'mjd', 'fiberID'],axis=1)"
   ]
  },
  {
   "cell_type": "code",
   "execution_count": 437,
   "metadata": {},
   "outputs": [
    {
     "data": {
      "text/html": [
       "<div>\n",
       "<style scoped>\n",
       "    .dataframe tbody tr th:only-of-type {\n",
       "        vertical-align: middle;\n",
       "    }\n",
       "\n",
       "    .dataframe tbody tr th {\n",
       "        vertical-align: top;\n",
       "    }\n",
       "\n",
       "    .dataframe thead th {\n",
       "        text-align: right;\n",
       "    }\n",
       "</style>\n",
       "<table border=\"1\" class=\"dataframe\">\n",
       "  <thead>\n",
       "    <tr style=\"text-align: right;\">\n",
       "      <th></th>\n",
       "      <th>u</th>\n",
       "      <th>g</th>\n",
       "      <th>r</th>\n",
       "      <th>i</th>\n",
       "      <th>z</th>\n",
       "      <th>redshift</th>\n",
       "      <th>class</th>\n",
       "    </tr>\n",
       "  </thead>\n",
       "  <tbody>\n",
       "    <tr>\n",
       "      <th>0</th>\n",
       "      <td>21.99938</td>\n",
       "      <td>19.73039</td>\n",
       "      <td>18.67928</td>\n",
       "      <td>18.26405</td>\n",
       "      <td>18.00196</td>\n",
       "      <td>0.000114</td>\n",
       "      <td>0</td>\n",
       "    </tr>\n",
       "    <tr>\n",
       "      <th>1</th>\n",
       "      <td>23.46245</td>\n",
       "      <td>21.21311</td>\n",
       "      <td>19.44700</td>\n",
       "      <td>18.82201</td>\n",
       "      <td>18.37411</td>\n",
       "      <td>0.373543</td>\n",
       "      <td>1</td>\n",
       "    </tr>\n",
       "    <tr>\n",
       "      <th>2</th>\n",
       "      <td>23.46245</td>\n",
       "      <td>21.21311</td>\n",
       "      <td>19.44700</td>\n",
       "      <td>18.82201</td>\n",
       "      <td>18.37411</td>\n",
       "      <td>0.373478</td>\n",
       "      <td>1</td>\n",
       "    </tr>\n",
       "    <tr>\n",
       "      <th>3</th>\n",
       "      <td>19.15817</td>\n",
       "      <td>18.05311</td>\n",
       "      <td>17.63875</td>\n",
       "      <td>17.40735</td>\n",
       "      <td>17.27723</td>\n",
       "      <td>0.018285</td>\n",
       "      <td>1</td>\n",
       "    </tr>\n",
       "    <tr>\n",
       "      <th>4</th>\n",
       "      <td>22.73320</td>\n",
       "      <td>20.98437</td>\n",
       "      <td>19.29221</td>\n",
       "      <td>18.63999</td>\n",
       "      <td>18.21168</td>\n",
       "      <td>0.390870</td>\n",
       "      <td>1</td>\n",
       "    </tr>\n",
       "  </tbody>\n",
       "</table>\n",
       "</div>"
      ],
      "text/plain": [
       "          u         g         r         i         z  redshift  class\n",
       "0  21.99938  19.73039  18.67928  18.26405  18.00196  0.000114      0\n",
       "1  23.46245  21.21311  19.44700  18.82201  18.37411  0.373543      1\n",
       "2  23.46245  21.21311  19.44700  18.82201  18.37411  0.373478      1\n",
       "3  19.15817  18.05311  17.63875  17.40735  17.27723  0.018285      1\n",
       "4  22.73320  20.98437  19.29221  18.63999  18.21168  0.390870      1"
      ]
     },
     "execution_count": 437,
     "metadata": {},
     "output_type": "execute_result"
    }
   ],
   "source": [
    "data.head()"
   ]
  },
  {
   "cell_type": "code",
   "execution_count": 438,
   "metadata": {},
   "outputs": [],
   "source": [
    "X=data.drop(['class'],axis=1)\n",
    "y=data['class'].values\n",
    "X=StandardScaler().fit_transform(X)"
   ]
  },
  {
   "cell_type": "code",
   "execution_count": 439,
   "metadata": {},
   "outputs": [],
   "source": [
    "y_pred = random_forest.predict(X)"
   ]
  },
  {
   "cell_type": "code",
   "execution_count": 442,
   "metadata": {},
   "outputs": [
    {
     "name": "stdout",
     "output_type": "stream",
     "text": [
      "Accuracy of Random Forest  11.628\n"
     ]
    }
   ],
   "source": [
    "Test_acc_random_forest = round(random_forest.score(X, y) * 100, 3)\n",
    "print(\"Accuracy of Random Forest \",Test_acc_random_forest)"
   ]
  },
  {
   "cell_type": "code",
   "execution_count": 443,
   "metadata": {},
   "outputs": [
    {
     "data": {
      "text/plain": [
       "array([[ 0,  0,  0],\n",
       "       [14,  5,  0],\n",
       "       [ 5, 19,  0]], dtype=int64)"
      ]
     },
     "execution_count": 443,
     "metadata": {},
     "output_type": "execute_result"
    }
   ],
   "source": [
    "confusion_matrix(y_pred,y)"
   ]
  },
  {
   "cell_type": "code",
   "execution_count": null,
   "metadata": {},
   "outputs": [],
   "source": []
  },
  {
   "cell_type": "code",
   "execution_count": null,
   "metadata": {},
   "outputs": [],
   "source": []
  }
 ],
 "metadata": {
  "kernelspec": {
   "display_name": "Python 3",
   "language": "python",
   "name": "python3"
  },
  "language_info": {
   "codemirror_mode": {
    "name": "ipython",
    "version": 3
   },
   "file_extension": ".py",
   "mimetype": "text/x-python",
   "name": "python",
   "nbconvert_exporter": "python",
   "pygments_lexer": "ipython3",
   "version": "3.8.0"
  }
 },
 "nbformat": 4,
 "nbformat_minor": 4
}
