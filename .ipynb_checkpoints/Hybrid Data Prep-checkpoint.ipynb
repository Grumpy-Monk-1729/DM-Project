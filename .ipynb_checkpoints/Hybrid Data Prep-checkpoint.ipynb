{
 "cells": [
  {
   "cell_type": "markdown",
   "id": "dressed-evolution",
   "metadata": {},
   "source": [
    "# Creating LAMOST dataset from SDSS DR15 Query\n",
    "\n",
    "    --> http://dr6.lamost.org/v2/sql/s"
   ]
  },
  {
   "cell_type": "code",
   "execution_count": 1,
   "id": "exact-reviewer",
   "metadata": {},
   "outputs": [],
   "source": [
    "import numpy as np # linear algebra\n",
    "import pandas as pd # data processing, CSV file I/O (e.g. pd.read_csv)\n",
    "import matplotlib.pyplot as plt\n",
    "from sklearn.metrics import classification_report\n",
    "from sklearn.metrics import precision_recall_fscore_support\n",
    "from sklearn.metrics import confusion_matrix\n",
    "import warnings\n",
    "from mpl_toolkits.mplot3d import Axes3D\n",
    "from sklearn.preprocessing import StandardScaler\n",
    "from sklearn.model_selection import train_test_split\n",
    "import seaborn as sns\n",
    "import timeit\n",
    "import os\n",
    "warnings.filterwarnings(\"ignore\")"
   ]
  },
  {
   "cell_type": "code",
   "execution_count": 10,
   "id": "6989d1ee",
   "metadata": {},
   "outputs": [],
   "source": [
    "sdss = pd.read_csv('input/combine/SDSS_final.csv')\n",
    "lamost = pd.read_csv('input/combine/LAMOST_final.csv')\n",
    "sdss = sdss.sample(frac=1)\n",
    "lamost = lamost.sample(frac=1)"
   ]
  },
  {
   "cell_type": "code",
   "execution_count": 14,
   "id": "following-original",
   "metadata": {},
   "outputs": [
    {
     "data": {
      "text/plain": [
       "Index(['objid', 'ra', 'dec', 'u', 'g', 'r', 'i', 'z', 'run', 'rerun', 'camcol',\n",
       "       'field', 'specobjid', 'class', 'redshift', 'plate', 'mjd', 'fiberid'],\n",
       "      dtype='object')"
      ]
     },
     "execution_count": 14,
     "metadata": {},
     "output_type": "execute_result"
    }
   ],
   "source": [
    "sdss.columns"
   ]
  },
  {
   "cell_type": "code",
   "execution_count": 15,
   "id": "complex-challenge",
   "metadata": {},
   "outputs": [
    {
     "data": {
      "text/plain": [
       "Index(['obsid', 'ra', 'dec', 'redshift', 'class', 'mag1', 'mag2', 'mag3',\n",
       "       'mag4', 'mag5'],\n",
       "      dtype='object')"
      ]
     },
     "execution_count": 15,
     "metadata": {},
     "output_type": "execute_result"
    }
   ],
   "source": [
    "lamost.columns"
   ]
  },
  {
   "cell_type": "code",
   "execution_count": 11,
   "id": "a106c00b",
   "metadata": {},
   "outputs": [],
   "source": [
    "sdss = sdss.head(15000)\n",
    "lamost = lamost.head(15000)"
   ]
  },
  {
   "cell_type": "code",
   "execution_count": 12,
   "id": "declared-snake",
   "metadata": {},
   "outputs": [],
   "source": [
    "dataframes = [sdss,lamost]\n",
    "df = pd.concat(dataframes)"
   ]
  },
  {
   "cell_type": "code",
   "execution_count": 22,
   "id": "progressive-produce",
   "metadata": {},
   "outputs": [],
   "source": [
    "all_filenames = ['Test/LAMOST/QSO.csv','Test/LAMOST/GALAXY.csv','Test/LAMOST/STAR.csv']\n",
    "combined_csv = pd.concat([pd.read_csv(f) for f in all_filenames ])\n",
    "#export to csv\n",
    "combined_csv.to_csv( \"LAMOST_combined.csv\", index=False, encoding='utf-8-sig')"
   ]
  },
  {
   "cell_type": "code",
   "execution_count": 23,
   "id": "tough-admission",
   "metadata": {},
   "outputs": [],
   "source": [
    "df = pd.read_csv('LAMOST_combined.csv')"
   ]
  },
  {
   "cell_type": "code",
   "execution_count": 24,
   "id": "parallel-theory",
   "metadata": {},
   "outputs": [
    {
     "data": {
      "text/html": [
       "<div>\n",
       "<style scoped>\n",
       "    .dataframe tbody tr th:only-of-type {\n",
       "        vertical-align: middle;\n",
       "    }\n",
       "\n",
       "    .dataframe tbody tr th {\n",
       "        vertical-align: top;\n",
       "    }\n",
       "\n",
       "    .dataframe thead th {\n",
       "        text-align: right;\n",
       "    }\n",
       "</style>\n",
       "<table border=\"1\" class=\"dataframe\">\n",
       "  <thead>\n",
       "    <tr style=\"text-align: right;\">\n",
       "      <th></th>\n",
       "      <th>obsid</th>\n",
       "      <th>ra</th>\n",
       "      <th>dec</th>\n",
       "      <th>z</th>\n",
       "      <th>class</th>\n",
       "      <th>mag1</th>\n",
       "      <th>mag2</th>\n",
       "      <th>mag3</th>\n",
       "      <th>mag4</th>\n",
       "      <th>mag5</th>\n",
       "    </tr>\n",
       "  </thead>\n",
       "  <tbody>\n",
       "    <tr>\n",
       "      <th>22829</th>\n",
       "      <td>210198</td>\n",
       "      <td>43.088799</td>\n",
       "      <td>-1.577594</td>\n",
       "      <td>-0.000038</td>\n",
       "      <td>STAR</td>\n",
       "      <td>19.75</td>\n",
       "      <td>17.54</td>\n",
       "      <td>16.62</td>\n",
       "      <td>16.27</td>\n",
       "      <td>16.06</td>\n",
       "    </tr>\n",
       "    <tr>\n",
       "      <th>1906</th>\n",
       "      <td>77205092</td>\n",
       "      <td>15.311154</td>\n",
       "      <td>6.095669</td>\n",
       "      <td>1.904260</td>\n",
       "      <td>QSO</td>\n",
       "      <td>20.55</td>\n",
       "      <td>99.00</td>\n",
       "      <td>99.00</td>\n",
       "      <td>99.00</td>\n",
       "      <td>99.00</td>\n",
       "    </tr>\n",
       "    <tr>\n",
       "      <th>10140</th>\n",
       "      <td>106084</td>\n",
       "      <td>334.003910</td>\n",
       "      <td>-0.001640</td>\n",
       "      <td>0.123472</td>\n",
       "      <td>GALAXY</td>\n",
       "      <td>19.74</td>\n",
       "      <td>18.54</td>\n",
       "      <td>17.74</td>\n",
       "      <td>17.36</td>\n",
       "      <td>17.15</td>\n",
       "    </tr>\n",
       "    <tr>\n",
       "      <th>11278</th>\n",
       "      <td>8204141</td>\n",
       "      <td>12.417300</td>\n",
       "      <td>2.166760</td>\n",
       "      <td>0.109395</td>\n",
       "      <td>GALAXY</td>\n",
       "      <td>19.76</td>\n",
       "      <td>18.54</td>\n",
       "      <td>17.85</td>\n",
       "      <td>17.48</td>\n",
       "      <td>17.17</td>\n",
       "    </tr>\n",
       "    <tr>\n",
       "      <th>17759</th>\n",
       "      <td>43111178</td>\n",
       "      <td>208.960390</td>\n",
       "      <td>4.183370</td>\n",
       "      <td>0.174657</td>\n",
       "      <td>GALAXY</td>\n",
       "      <td>19.31</td>\n",
       "      <td>18.25</td>\n",
       "      <td>17.51</td>\n",
       "      <td>17.12</td>\n",
       "      <td>16.90</td>\n",
       "    </tr>\n",
       "    <tr>\n",
       "      <th>...</th>\n",
       "      <td>...</td>\n",
       "      <td>...</td>\n",
       "      <td>...</td>\n",
       "      <td>...</td>\n",
       "      <td>...</td>\n",
       "      <td>...</td>\n",
       "      <td>...</td>\n",
       "      <td>...</td>\n",
       "      <td>...</td>\n",
       "      <td>...</td>\n",
       "    </tr>\n",
       "    <tr>\n",
       "      <th>24499</th>\n",
       "      <td>402223</td>\n",
       "      <td>9.608655</td>\n",
       "      <td>38.746201</td>\n",
       "      <td>-0.000304</td>\n",
       "      <td>STAR</td>\n",
       "      <td>99.00</td>\n",
       "      <td>18.61</td>\n",
       "      <td>17.19</td>\n",
       "      <td>16.40</td>\n",
       "      <td>99.00</td>\n",
       "    </tr>\n",
       "    <tr>\n",
       "      <th>1634</th>\n",
       "      <td>67702208</td>\n",
       "      <td>323.729502</td>\n",
       "      <td>0.182460</td>\n",
       "      <td>3.288760</td>\n",
       "      <td>QSO</td>\n",
       "      <td>24.63</td>\n",
       "      <td>19.15</td>\n",
       "      <td>18.82</td>\n",
       "      <td>18.74</td>\n",
       "      <td>18.68</td>\n",
       "    </tr>\n",
       "    <tr>\n",
       "      <th>11419</th>\n",
       "      <td>8209182</td>\n",
       "      <td>13.833480</td>\n",
       "      <td>3.312840</td>\n",
       "      <td>0.082647</td>\n",
       "      <td>GALAXY</td>\n",
       "      <td>19.65</td>\n",
       "      <td>18.49</td>\n",
       "      <td>17.88</td>\n",
       "      <td>17.49</td>\n",
       "      <td>17.23</td>\n",
       "    </tr>\n",
       "    <tr>\n",
       "      <th>14714</th>\n",
       "      <td>21202172</td>\n",
       "      <td>121.822210</td>\n",
       "      <td>1.429060</td>\n",
       "      <td>0.094170</td>\n",
       "      <td>GALAXY</td>\n",
       "      <td>19.18</td>\n",
       "      <td>18.06</td>\n",
       "      <td>17.53</td>\n",
       "      <td>17.20</td>\n",
       "      <td>17.01</td>\n",
       "    </tr>\n",
       "    <tr>\n",
       "      <th>5380</th>\n",
       "      <td>134015009</td>\n",
       "      <td>153.834900</td>\n",
       "      <td>26.520243</td>\n",
       "      <td>2.026910</td>\n",
       "      <td>QSO</td>\n",
       "      <td>19.93</td>\n",
       "      <td>19.57</td>\n",
       "      <td>19.64</td>\n",
       "      <td>19.51</td>\n",
       "      <td>19.36</td>\n",
       "    </tr>\n",
       "  </tbody>\n",
       "</table>\n",
       "<p>30000 rows × 10 columns</p>\n",
       "</div>"
      ],
      "text/plain": [
       "           obsid          ra        dec         z   class   mag1   mag2  \\\n",
       "22829     210198   43.088799  -1.577594 -0.000038    STAR  19.75  17.54   \n",
       "1906    77205092   15.311154   6.095669  1.904260     QSO  20.55  99.00   \n",
       "10140     106084  334.003910  -0.001640  0.123472  GALAXY  19.74  18.54   \n",
       "11278    8204141   12.417300   2.166760  0.109395  GALAXY  19.76  18.54   \n",
       "17759   43111178  208.960390   4.183370  0.174657  GALAXY  19.31  18.25   \n",
       "...          ...         ...        ...       ...     ...    ...    ...   \n",
       "24499     402223    9.608655  38.746201 -0.000304    STAR  99.00  18.61   \n",
       "1634    67702208  323.729502   0.182460  3.288760     QSO  24.63  19.15   \n",
       "11419    8209182   13.833480   3.312840  0.082647  GALAXY  19.65  18.49   \n",
       "14714   21202172  121.822210   1.429060  0.094170  GALAXY  19.18  18.06   \n",
       "5380   134015009  153.834900  26.520243  2.026910     QSO  19.93  19.57   \n",
       "\n",
       "        mag3   mag4   mag5  \n",
       "22829  16.62  16.27  16.06  \n",
       "1906   99.00  99.00  99.00  \n",
       "10140  17.74  17.36  17.15  \n",
       "11278  17.85  17.48  17.17  \n",
       "17759  17.51  17.12  16.90  \n",
       "...      ...    ...    ...  \n",
       "24499  17.19  16.40  99.00  \n",
       "1634   18.82  18.74  18.68  \n",
       "11419  17.88  17.49  17.23  \n",
       "14714  17.53  17.20  17.01  \n",
       "5380   19.64  19.51  19.36  \n",
       "\n",
       "[30000 rows x 10 columns]"
      ]
     },
     "execution_count": 24,
     "metadata": {},
     "output_type": "execute_result"
    }
   ],
   "source": [
    "df = df.sample(frac = 1)\n",
    "df"
   ]
  },
  {
   "cell_type": "code",
   "execution_count": 25,
   "id": "breeding-hierarchy",
   "metadata": {},
   "outputs": [],
   "source": [
    "df.to_csv('input/LAMOST_final.csv')"
   ]
  },
  {
   "cell_type": "code",
   "execution_count": 26,
   "id": "lightweight-serbia",
   "metadata": {},
   "outputs": [],
   "source": [
    "os.remove(\"LAMOST_combined.csv\")"
   ]
  },
  {
   "cell_type": "code",
   "execution_count": null,
   "id": "loose-decimal",
   "metadata": {},
   "outputs": [],
   "source": []
  }
 ],
 "metadata": {
  "kernelspec": {
   "display_name": "Python 3",
   "language": "python",
   "name": "python3"
  },
  "language_info": {
   "codemirror_mode": {
    "name": "ipython",
    "version": 3
   },
   "file_extension": ".py",
   "mimetype": "text/x-python",
   "name": "python",
   "nbconvert_exporter": "python",
   "pygments_lexer": "ipython3",
   "version": "3.8.0"
  }
 },
 "nbformat": 4,
 "nbformat_minor": 5
}
