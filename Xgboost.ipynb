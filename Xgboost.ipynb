{
 "cells": [
  {
   "cell_type": "markdown",
   "metadata": {
    "_cell_guid": "fa3d2a9c-442b-44c2-bf4d-45bb544ec369",
    "_uuid": "bcba1675eebc008a35c21f6b64174161ff7d4c48"
   },
   "source": [
    "# Sloan Digital Sky Survey Classification\n",
    "## Classification of Galaxies, Stars and Quasars based on the D15 from the SDSS"
   ]
  },
  {
   "cell_type": "markdown",
   "metadata": {
    "_cell_guid": "b9d4b609-9f0f-4296-8462-98975b2ece09",
    "_uuid": "16d228ddb3b0d71d6e13093552c04a21146b75e5"
   },
   "source": [
    "### Importing Libraries"
   ]
  },
  {
   "cell_type": "code",
   "execution_count": 284,
   "metadata": {
    "_cell_guid": "13914766-c2fb-4801-8846-6c78e6d1cb03",
    "_uuid": "5bb212bdb34abc34f8bed1a0bc2d1a6287166221"
   },
   "outputs": [],
   "source": [
    "import numpy as np\n",
    "import pandas as pd\n",
    "import matplotlib.pyplot as plt\n",
    "from matplotlib import style\n",
    "import seaborn as sns\n",
    "sns.set_style('whitegrid')\n",
    "import tensorflow as tf\n",
    "from sklearn.model_selection import train_test_split, cross_val_predict\n",
    "from sklearn.svm import SVC\n",
    "from sklearn.ensemble import RandomForestClassifier\n",
    "from sklearn.linear_model import SGDClassifier\n",
    "from sklearn.neighbors import KNeighborsClassifier\n",
    "from sklearn.naive_bayes import GaussianNB\n",
    "from sklearn.decomposition import PCA\n",
    "from xgboost import XGBClassifier\n",
    "from sklearn.preprocessing import LabelEncoder, MinMaxScaler\n",
    "from sklearn.metrics import confusion_matrix, precision_score, recall_score, f1_score\n",
    "import time\n",
    "import warnings\n",
    "warnings.filterwarnings(\"ignore\")\n",
    "%matplotlib inline\n",
    "\n",
    "SMALL_SIZE = 10\n",
    "MEDIUM_SIZE = 12\n",
    "\n",
    "plt.rc('font', size=SMALL_SIZE)\n",
    "plt.rc('axes', titlesize=MEDIUM_SIZE)\n",
    "plt.rc('axes', labelsize=MEDIUM_SIZE)\n",
    "plt.rcParams['figure.dpi']=150"
   ]
  },
  {
   "cell_type": "markdown",
   "metadata": {
    "_cell_guid": "87680814-020a-4a48-966a-188ffb393eb8",
    "_uuid": "70ed9474476ba00cbe256cfd857e662518ba5d14"
   },
   "source": [
    "## Data Acquisition"
   ]
  },
  {
   "cell_type": "markdown",
   "metadata": {
    "_cell_guid": "30913682-a98d-4910-a9a1-e2b2cbe01c9e",
    "_uuid": "be5d31d91aa2035ef2a3198e1a2fc1165fe66da2"
   },
   "source": [
    "### Default Query"
   ]
  },
  {
   "cell_type": "markdown",
   "metadata": {
    "_cell_guid": "34d34aba-b697-4114-bc08-68d9374325df",
    "_uuid": "e50d82fc8cca0b72bca172cf4848b1c2cfc0d8a3"
   },
   "source": [
    "**SELECT TOP 10000** <br/>\n",
    "p.objid,p.ra,p.dec,p.u,p.g,p.r,p.i,p.z, p.run, p.rerun, p.camcol, p.field,  <br/>\n",
    "s.specobjid, s.class, s.z as redshift, s.plate, s.mjd, s.fiberid  <br/>\n",
    "**FROM** PhotoObj **AS** p <br/>\n",
    "   **JOIN** SpecObj **AS** s **ON** s.bestobjid = p.objid <br/>\n",
    "**WHERE** <br/>\n",
    "   p.u **BETWEEN** 0 **AND** 19.6 <br/>\n",
    "   **AND** g **BETWEEN** 0 **AND** 20 <br/>\n",
    "\n"
   ]
  },
  {
   "cell_type": "markdown",
   "metadata": {
    "_cell_guid": "a789e0cf-25fa-440c-bc40-cc1b63a571da",
    "_uuid": "ff831f4235020971246b431da8e86fb2fa2a8986"
   },
   "source": [
    "The above query joins two tables (actually views): The image table (PhotoObj) which contains all image objects and the spectral table (SpecObj) which contains corresponding spectral data. "
   ]
  },
  {
   "cell_type": "markdown",
   "metadata": {
    "_cell_guid": "47aefcd7-8ce4-41b8-848c-610ec48aa89c",
    "_uuid": "2ad8534b4a25b74d0c0e162949202b1e9de206a9"
   },
   "source": [
    "### Feature Description"
   ]
  },
  {
   "cell_type": "code",
   "execution_count": 285,
   "metadata": {
    "_cell_guid": "ffb06ef6-73f7-4f42-ab42-5d5b5f773ba7",
    "_uuid": "04e88f8c9c12167a1c23e47b3e2046246510e983"
   },
   "outputs": [],
   "source": [
    "sdss_df = pd.read_csv('input/SDSS_dr16.csv', skiprows=0)\n",
    "# sdss_df = pd.read_csv('input/SDSS_top.csv', skiprows=0)"
   ]
  },
  {
   "cell_type": "code",
   "execution_count": 286,
   "metadata": {
    "_cell_guid": "26b460b4-d472-440b-b690-d8c12f267944",
    "_uuid": "149d00bab55383b7014daf916df81410717b643a",
    "scrolled": true
   },
   "outputs": [
    {
     "data": {
      "text/html": [
       "<div>\n",
       "<style scoped>\n",
       "    .dataframe tbody tr th:only-of-type {\n",
       "        vertical-align: middle;\n",
       "    }\n",
       "\n",
       "    .dataframe tbody tr th {\n",
       "        vertical-align: top;\n",
       "    }\n",
       "\n",
       "    .dataframe thead th {\n",
       "        text-align: right;\n",
       "    }\n",
       "</style>\n",
       "<table border=\"1\" class=\"dataframe\">\n",
       "  <thead>\n",
       "    <tr style=\"text-align: right;\">\n",
       "      <th></th>\n",
       "      <th>objid</th>\n",
       "      <th>ra</th>\n",
       "      <th>dec</th>\n",
       "      <th>u</th>\n",
       "      <th>g</th>\n",
       "      <th>r</th>\n",
       "      <th>i</th>\n",
       "      <th>z</th>\n",
       "      <th>run</th>\n",
       "      <th>rerun</th>\n",
       "      <th>camcol</th>\n",
       "      <th>field</th>\n",
       "      <th>specobjid</th>\n",
       "      <th>class</th>\n",
       "      <th>redshift</th>\n",
       "      <th>plate</th>\n",
       "      <th>mjd</th>\n",
       "      <th>fiberid</th>\n",
       "    </tr>\n",
       "  </thead>\n",
       "  <tbody>\n",
       "    <tr>\n",
       "      <th>0</th>\n",
       "      <td>1.237650e+18</td>\n",
       "      <td>185.182780</td>\n",
       "      <td>1.189488</td>\n",
       "      <td>19.34126</td>\n",
       "      <td>18.46700</td>\n",
       "      <td>18.44940</td>\n",
       "      <td>18.33074</td>\n",
       "      <td>18.06268</td>\n",
       "      <td>756</td>\n",
       "      <td>301</td>\n",
       "      <td>6</td>\n",
       "      <td>463</td>\n",
       "      <td>4.330450e+18</td>\n",
       "      <td>QSO</td>\n",
       "      <td>2.627589</td>\n",
       "      <td>3846</td>\n",
       "      <td>55327</td>\n",
       "      <td>865</td>\n",
       "    </tr>\n",
       "    <tr>\n",
       "      <th>1</th>\n",
       "      <td>1.237650e+18</td>\n",
       "      <td>216.927113</td>\n",
       "      <td>0.824043</td>\n",
       "      <td>19.20285</td>\n",
       "      <td>18.19531</td>\n",
       "      <td>17.59929</td>\n",
       "      <td>17.22163</td>\n",
       "      <td>17.02410</td>\n",
       "      <td>756</td>\n",
       "      <td>301</td>\n",
       "      <td>5</td>\n",
       "      <td>675</td>\n",
       "      <td>3.446170e+17</td>\n",
       "      <td>GALAXY</td>\n",
       "      <td>0.150541</td>\n",
       "      <td>306</td>\n",
       "      <td>51637</td>\n",
       "      <td>335</td>\n",
       "    </tr>\n",
       "    <tr>\n",
       "      <th>2</th>\n",
       "      <td>1.237651e+18</td>\n",
       "      <td>130.183176</td>\n",
       "      <td>49.955453</td>\n",
       "      <td>18.53200</td>\n",
       "      <td>17.65095</td>\n",
       "      <td>17.24701</td>\n",
       "      <td>17.12667</td>\n",
       "      <td>17.10159</td>\n",
       "      <td>1331</td>\n",
       "      <td>301</td>\n",
       "      <td>2</td>\n",
       "      <td>175</td>\n",
       "      <td>8.231498e+18</td>\n",
       "      <td>STAR</td>\n",
       "      <td>-0.000139</td>\n",
       "      <td>7311</td>\n",
       "      <td>57038</td>\n",
       "      <td>158</td>\n",
       "    </tr>\n",
       "    <tr>\n",
       "      <th>3</th>\n",
       "      <td>1.237650e+18</td>\n",
       "      <td>146.011531</td>\n",
       "      <td>59.079110</td>\n",
       "      <td>18.68013</td>\n",
       "      <td>18.36549</td>\n",
       "      <td>18.32169</td>\n",
       "      <td>18.33179</td>\n",
       "      <td>18.27370</td>\n",
       "      <td>1331</td>\n",
       "      <td>301</td>\n",
       "      <td>4</td>\n",
       "      <td>261</td>\n",
       "      <td>5.100870e+17</td>\n",
       "      <td>QSO</td>\n",
       "      <td>0.775121</td>\n",
       "      <td>453</td>\n",
       "      <td>51915</td>\n",
       "      <td>196</td>\n",
       "    </tr>\n",
       "    <tr>\n",
       "      <th>4</th>\n",
       "      <td>1.237660e+18</td>\n",
       "      <td>190.489753</td>\n",
       "      <td>63.544891</td>\n",
       "      <td>19.15626</td>\n",
       "      <td>18.12416</td>\n",
       "      <td>17.64571</td>\n",
       "      <td>17.40442</td>\n",
       "      <td>17.13662</td>\n",
       "      <td>2304</td>\n",
       "      <td>301</td>\n",
       "      <td>6</td>\n",
       "      <td>214</td>\n",
       "      <td>8.794520e+17</td>\n",
       "      <td>QSO</td>\n",
       "      <td>2.613389</td>\n",
       "      <td>781</td>\n",
       "      <td>52373</td>\n",
       "      <td>450</td>\n",
       "    </tr>\n",
       "  </tbody>\n",
       "</table>\n",
       "</div>"
      ],
      "text/plain": [
       "          objid          ra        dec         u         g         r  \\\n",
       "0  1.237650e+18  185.182780   1.189488  19.34126  18.46700  18.44940   \n",
       "1  1.237650e+18  216.927113   0.824043  19.20285  18.19531  17.59929   \n",
       "2  1.237651e+18  130.183176  49.955453  18.53200  17.65095  17.24701   \n",
       "3  1.237650e+18  146.011531  59.079110  18.68013  18.36549  18.32169   \n",
       "4  1.237660e+18  190.489753  63.544891  19.15626  18.12416  17.64571   \n",
       "\n",
       "          i         z   run  rerun  camcol  field     specobjid   class  \\\n",
       "0  18.33074  18.06268   756    301       6    463  4.330450e+18     QSO   \n",
       "1  17.22163  17.02410   756    301       5    675  3.446170e+17  GALAXY   \n",
       "2  17.12667  17.10159  1331    301       2    175  8.231498e+18    STAR   \n",
       "3  18.33179  18.27370  1331    301       4    261  5.100870e+17     QSO   \n",
       "4  17.40442  17.13662  2304    301       6    214  8.794520e+17     QSO   \n",
       "\n",
       "   redshift  plate    mjd  fiberid  \n",
       "0  2.627589   3846  55327      865  \n",
       "1  0.150541    306  51637      335  \n",
       "2 -0.000139   7311  57038      158  \n",
       "3  0.775121    453  51915      196  \n",
       "4  2.613389    781  52373      450  "
      ]
     },
     "execution_count": 286,
     "metadata": {},
     "output_type": "execute_result"
    }
   ],
   "source": [
    "sdss_df.head()"
   ]
  },
  {
   "cell_type": "code",
   "execution_count": 287,
   "metadata": {
    "_cell_guid": "6723c745-8446-46f0-a866-8c22668607d3",
    "_uuid": "77495f8526975b41e2ba43063b82d807e8ba1109",
    "scrolled": true
   },
   "outputs": [
    {
     "data": {
      "text/html": [
       "<div>\n",
       "<style scoped>\n",
       "    .dataframe tbody tr th:only-of-type {\n",
       "        vertical-align: middle;\n",
       "    }\n",
       "\n",
       "    .dataframe tbody tr th {\n",
       "        vertical-align: top;\n",
       "    }\n",
       "\n",
       "    .dataframe thead th {\n",
       "        text-align: right;\n",
       "    }\n",
       "</style>\n",
       "<table border=\"1\" class=\"dataframe\">\n",
       "  <thead>\n",
       "    <tr style=\"text-align: right;\">\n",
       "      <th></th>\n",
       "      <th>objid</th>\n",
       "      <th>ra</th>\n",
       "      <th>dec</th>\n",
       "      <th>u</th>\n",
       "      <th>g</th>\n",
       "      <th>r</th>\n",
       "      <th>i</th>\n",
       "      <th>z</th>\n",
       "      <th>run</th>\n",
       "      <th>rerun</th>\n",
       "      <th>camcol</th>\n",
       "      <th>field</th>\n",
       "      <th>specobjid</th>\n",
       "      <th>redshift</th>\n",
       "      <th>plate</th>\n",
       "      <th>mjd</th>\n",
       "      <th>fiberid</th>\n",
       "    </tr>\n",
       "  </thead>\n",
       "  <tbody>\n",
       "    <tr>\n",
       "      <th>count</th>\n",
       "      <td>3.000000e+04</td>\n",
       "      <td>30000.000000</td>\n",
       "      <td>30000.000000</td>\n",
       "      <td>30000.000000</td>\n",
       "      <td>30000.000000</td>\n",
       "      <td>30000.000000</td>\n",
       "      <td>30000.000000</td>\n",
       "      <td>30000.000000</td>\n",
       "      <td>30000.000000</td>\n",
       "      <td>30000.0</td>\n",
       "      <td>30000.000000</td>\n",
       "      <td>30000.000000</td>\n",
       "      <td>3.000000e+04</td>\n",
       "      <td>30000.000000</td>\n",
       "      <td>30000.00000</td>\n",
       "      <td>30000.000000</td>\n",
       "      <td>30000.000000</td>\n",
       "    </tr>\n",
       "    <tr>\n",
       "      <th>mean</th>\n",
       "      <td>1.237650e+18</td>\n",
       "      <td>169.220255</td>\n",
       "      <td>18.833856</td>\n",
       "      <td>18.693241</td>\n",
       "      <td>17.721518</td>\n",
       "      <td>17.299627</td>\n",
       "      <td>17.083654</td>\n",
       "      <td>16.952933</td>\n",
       "      <td>1173.076633</td>\n",
       "      <td>301.0</td>\n",
       "      <td>3.565333</td>\n",
       "      <td>286.052433</td>\n",
       "      <td>1.863896e+18</td>\n",
       "      <td>0.433206</td>\n",
       "      <td>1655.38800</td>\n",
       "      <td>53026.506633</td>\n",
       "      <td>343.559367</td>\n",
       "    </tr>\n",
       "    <tr>\n",
       "      <th>std</th>\n",
       "      <td>1.285415e+12</td>\n",
       "      <td>67.342191</td>\n",
       "      <td>26.489236</td>\n",
       "      <td>0.799212</td>\n",
       "      <td>1.071583</td>\n",
       "      <td>1.256390</td>\n",
       "      <td>1.336041</td>\n",
       "      <td>1.406907</td>\n",
       "      <td>412.550959</td>\n",
       "      <td>0.0</td>\n",
       "      <td>1.584450</td>\n",
       "      <td>192.647294</td>\n",
       "      <td>2.397609e+18</td>\n",
       "      <td>0.704016</td>\n",
       "      <td>2129.48962</td>\n",
       "      <td>1666.154163</td>\n",
       "      <td>215.758118</td>\n",
       "    </tr>\n",
       "    <tr>\n",
       "      <th>min</th>\n",
       "      <td>1.237646e+18</td>\n",
       "      <td>0.039086</td>\n",
       "      <td>-11.214592</td>\n",
       "      <td>12.421390</td>\n",
       "      <td>12.357220</td>\n",
       "      <td>11.633850</td>\n",
       "      <td>11.051390</td>\n",
       "      <td>10.616260</td>\n",
       "      <td>94.000000</td>\n",
       "      <td>301.0</td>\n",
       "      <td>1.000000</td>\n",
       "      <td>11.000000</td>\n",
       "      <td>2.994900e+17</td>\n",
       "      <td>-0.004268</td>\n",
       "      <td>266.00000</td>\n",
       "      <td>51578.000000</td>\n",
       "      <td>1.000000</td>\n",
       "    </tr>\n",
       "    <tr>\n",
       "      <th>25%</th>\n",
       "      <td>1.237650e+18</td>\n",
       "      <td>134.683454</td>\n",
       "      <td>-0.425347</td>\n",
       "      <td>18.297902</td>\n",
       "      <td>17.066893</td>\n",
       "      <td>16.430835</td>\n",
       "      <td>16.115680</td>\n",
       "      <td>15.905575</td>\n",
       "      <td>756.000000</td>\n",
       "      <td>301.0</td>\n",
       "      <td>2.000000</td>\n",
       "      <td>129.000000</td>\n",
       "      <td>3.817382e+17</td>\n",
       "      <td>0.000140</td>\n",
       "      <td>339.00000</td>\n",
       "      <td>51909.000000</td>\n",
       "      <td>164.000000</td>\n",
       "    </tr>\n",
       "    <tr>\n",
       "      <th>50%</th>\n",
       "      <td>1.237650e+18</td>\n",
       "      <td>175.103945</td>\n",
       "      <td>1.044443</td>\n",
       "      <td>18.926905</td>\n",
       "      <td>17.803380</td>\n",
       "      <td>17.306280</td>\n",
       "      <td>17.045095</td>\n",
       "      <td>16.907735</td>\n",
       "      <td>1239.000000</td>\n",
       "      <td>301.0</td>\n",
       "      <td>4.000000</td>\n",
       "      <td>253.000000</td>\n",
       "      <td>5.890115e+17</td>\n",
       "      <td>0.073726</td>\n",
       "      <td>523.00000</td>\n",
       "      <td>52056.000000</td>\n",
       "      <td>329.000000</td>\n",
       "    </tr>\n",
       "    <tr>\n",
       "      <th>75%</th>\n",
       "      <td>1.237650e+18</td>\n",
       "      <td>213.058163</td>\n",
       "      <td>48.587442</td>\n",
       "      <td>19.299202</td>\n",
       "      <td>18.538702</td>\n",
       "      <td>18.335195</td>\n",
       "      <td>18.225887</td>\n",
       "      <td>18.140358</td>\n",
       "      <td>1350.000000</td>\n",
       "      <td>301.0</td>\n",
       "      <td>5.000000</td>\n",
       "      <td>417.000000</td>\n",
       "      <td>2.881224e+18</td>\n",
       "      <td>0.668148</td>\n",
       "      <td>2559.00000</td>\n",
       "      <td>54454.000000</td>\n",
       "      <td>505.000000</td>\n",
       "    </tr>\n",
       "    <tr>\n",
       "      <th>max</th>\n",
       "      <td>1.237660e+18</td>\n",
       "      <td>359.996095</td>\n",
       "      <td>68.723470</td>\n",
       "      <td>19.599860</td>\n",
       "      <td>19.918970</td>\n",
       "      <td>29.744050</td>\n",
       "      <td>27.227860</td>\n",
       "      <td>28.234510</td>\n",
       "      <td>2328.000000</td>\n",
       "      <td>301.0</td>\n",
       "      <td>6.000000</td>\n",
       "      <td>812.000000</td>\n",
       "      <td>1.312126e+19</td>\n",
       "      <td>6.990327</td>\n",
       "      <td>11654.00000</td>\n",
       "      <td>58543.000000</td>\n",
       "      <td>1000.000000</td>\n",
       "    </tr>\n",
       "  </tbody>\n",
       "</table>\n",
       "</div>"
      ],
      "text/plain": [
       "              objid            ra           dec             u             g  \\\n",
       "count  3.000000e+04  30000.000000  30000.000000  30000.000000  30000.000000   \n",
       "mean   1.237650e+18    169.220255     18.833856     18.693241     17.721518   \n",
       "std    1.285415e+12     67.342191     26.489236      0.799212      1.071583   \n",
       "min    1.237646e+18      0.039086    -11.214592     12.421390     12.357220   \n",
       "25%    1.237650e+18    134.683454     -0.425347     18.297902     17.066893   \n",
       "50%    1.237650e+18    175.103945      1.044443     18.926905     17.803380   \n",
       "75%    1.237650e+18    213.058163     48.587442     19.299202     18.538702   \n",
       "max    1.237660e+18    359.996095     68.723470     19.599860     19.918970   \n",
       "\n",
       "                  r             i             z           run    rerun  \\\n",
       "count  30000.000000  30000.000000  30000.000000  30000.000000  30000.0   \n",
       "mean      17.299627     17.083654     16.952933   1173.076633    301.0   \n",
       "std        1.256390      1.336041      1.406907    412.550959      0.0   \n",
       "min       11.633850     11.051390     10.616260     94.000000    301.0   \n",
       "25%       16.430835     16.115680     15.905575    756.000000    301.0   \n",
       "50%       17.306280     17.045095     16.907735   1239.000000    301.0   \n",
       "75%       18.335195     18.225887     18.140358   1350.000000    301.0   \n",
       "max       29.744050     27.227860     28.234510   2328.000000    301.0   \n",
       "\n",
       "             camcol         field     specobjid      redshift        plate  \\\n",
       "count  30000.000000  30000.000000  3.000000e+04  30000.000000  30000.00000   \n",
       "mean       3.565333    286.052433  1.863896e+18      0.433206   1655.38800   \n",
       "std        1.584450    192.647294  2.397609e+18      0.704016   2129.48962   \n",
       "min        1.000000     11.000000  2.994900e+17     -0.004268    266.00000   \n",
       "25%        2.000000    129.000000  3.817382e+17      0.000140    339.00000   \n",
       "50%        4.000000    253.000000  5.890115e+17      0.073726    523.00000   \n",
       "75%        5.000000    417.000000  2.881224e+18      0.668148   2559.00000   \n",
       "max        6.000000    812.000000  1.312126e+19      6.990327  11654.00000   \n",
       "\n",
       "                mjd       fiberid  \n",
       "count  30000.000000  30000.000000  \n",
       "mean   53026.506633    343.559367  \n",
       "std     1666.154163    215.758118  \n",
       "min    51578.000000      1.000000  \n",
       "25%    51909.000000    164.000000  \n",
       "50%    52056.000000    329.000000  \n",
       "75%    54454.000000    505.000000  \n",
       "max    58543.000000   1000.000000  "
      ]
     },
     "execution_count": 287,
     "metadata": {},
     "output_type": "execute_result"
    }
   ],
   "source": [
    "sdss_df.describe()"
   ]
  },
  {
   "cell_type": "markdown",
   "metadata": {
    "_cell_guid": "8c6d5703-4e91-4c13-9a88-235c9848f6e8",
    "_uuid": "6da0473e16af044373072b21e28d3425f6541cca"
   },
   "source": [
    "From the above table we can tell that are no missing values at all. This means: **no imputing!**\n",
    "\n",
    "We also notice that most of the features stay within a reasonable scale when comparing values within **only one** column. We can recognize this from the min, max and quartil rows."
   ]
  },
  {
   "cell_type": "code",
   "execution_count": 288,
   "metadata": {
    "_cell_guid": "980baf01-358b-4f40-b1cd-886a8463befe",
    "_uuid": "75724e4e2a11a567b6155503ce0671ae3f5e2e7d",
    "scrolled": true
   },
   "outputs": [
    {
     "data": {
      "text/plain": [
       "QSO       10000\n",
       "GALAXY    10000\n",
       "STAR      10000\n",
       "Name: class, dtype: int64"
      ]
     },
     "execution_count": 288,
     "metadata": {},
     "output_type": "execute_result"
    }
   ],
   "source": [
    "sdss_df['class'].value_counts()"
   ]
  },
  {
   "cell_type": "code",
   "execution_count": 289,
   "metadata": {},
   "outputs": [],
   "source": [
    "X_df = sdss_df.drop(['objid','class','run','rerun','camcol','field','specobjid','plate','mjd','fiberid','ra','dec'], axis=1).values\n",
    "y_df = sdss_df['class'].values"
   ]
  },
  {
   "cell_type": "code",
   "execution_count": 290,
   "metadata": {},
   "outputs": [
    {
     "data": {
      "text/plain": [
       "(30000, 6)"
      ]
     },
     "execution_count": 290,
     "metadata": {},
     "output_type": "execute_result"
    }
   ],
   "source": [
    "X_df.shape"
   ]
  },
  {
   "cell_type": "code",
   "execution_count": 291,
   "metadata": {},
   "outputs": [],
   "source": [
    "X_train, X_test, y_train, y_test = train_test_split(X_df, y_df, test_size=0.30, random_state=44, shuffle =True)"
   ]
  },
  {
   "cell_type": "markdown",
   "metadata": {
    "_cell_guid": "026ded4a-6c4d-45ed-819e-68fe0f3e7238",
    "_uuid": "e13c5a84383fc5e96ae786757f68a6d5d4fefb83"
   },
   "source": [
    "#### XGBoost"
   ]
  },
  {
   "cell_type": "code",
   "execution_count": 293,
   "metadata": {
    "_cell_guid": "ebc9caed-0883-4352-9fd8-dc40154416f3",
    "_uuid": "e6f31bfdb40799c40b90ee4b603e6ffae9197f4d"
   },
   "outputs": [
    {
     "name": "stdout",
     "output_type": "stream",
     "text": [
      "XGBoost's prediction accuracy is: 98.46\n",
      "Time consumed for training: 3.751\n",
      "Time consumed for prediction: 0.02665 seconds\n"
     ]
    }
   ],
   "source": [
    "xgb = XGBClassifier(n_estimators=100, eval_metric='mlogloss')\n",
    "training_start = time.perf_counter()\n",
    "xgb.fit(X_train, y_train)\n",
    "training_end = time.perf_counter()\n",
    "prediction_start = time.perf_counter()\n",
    "preds = xgb.predict(X_test)\n",
    "prediction_end = time.perf_counter()\n",
    "acc_xgb = (preds == y_test).sum().astype(float) / len(preds)*100\n",
    "xgb_train_time = training_end-training_start\n",
    "xgb_prediction_time = prediction_end-prediction_start\n",
    "print(\"XGBoost's prediction accuracy is: %3.2f\" % (acc_xgb))\n",
    "print(\"Time consumed for training: %4.3f\" % (xgb_train_time))\n",
    "print(\"Time consumed for prediction: %6.5f seconds\" % (xgb_prediction_time))"
   ]
  },
  {
   "cell_type": "markdown",
   "metadata": {
    "_cell_guid": "9d6084f2-7121-4ef6-8f62-ce434f94f4ea",
    "_uuid": "91e2f9ced455f5a8f02a80cb5ff035ba3228f7f4"
   },
   "source": [
    "## Summary"
   ]
  },
  {
   "cell_type": "code",
   "execution_count": null,
   "metadata": {},
   "outputs": [],
   "source": []
  }
 ],
 "metadata": {
  "kernelspec": {
   "display_name": "Python 3",
   "language": "python",
   "name": "python3"
  },
  "language_info": {
   "codemirror_mode": {
    "name": "ipython",
    "version": 3
   },
   "file_extension": ".py",
   "mimetype": "text/x-python",
   "name": "python",
   "nbconvert_exporter": "python",
   "pygments_lexer": "ipython3",
   "version": "3.9.7"
  }
 },
 "nbformat": 4,
 "nbformat_minor": 4
}
